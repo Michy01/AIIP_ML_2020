{
 "cells": [
  {
   "cell_type": "markdown",
   "metadata": {},
   "source": [
    "# HLT Assignment"
   ]
  },
  {
   "cell_type": "markdown",
   "metadata": {},
   "source": [
    "## HLT GROUP D\n",
    "\n",
    "### Michael NANA KAMENI\n",
    "\n",
    "### Olisa IGWEBIKE \n",
    "\n",
    "### Oloruntoba SEUN\n",
    "\n",
    "### Rabiu BALA"
   ]
  },
  {
   "cell_type": "markdown",
   "metadata": {},
   "source": [
    "In addition to practising the process of loading data, regularizing it and using it to train a model, the goal of this assignment is to investigat the effect of changing model parameters on the performance."
   ]
  },
  {
   "cell_type": "markdown",
   "metadata": {},
   "source": [
    "## Step 1: loading the data"
   ]
  },
  {
   "cell_type": "markdown",
   "metadata": {},
   "source": [
    "We'll be going a bit further with the robot collision dataset. This time, instead of looking at just the first file, we'll look at all five different tasks combined (lp1.data to lp5.data). Prepare two different arrays, X1 and X2, as follows:\n",
    "- Each element in X1 is the immediate reading of the force and torque values after an event, [f1, f2, f3, t1, t2, t3]. The first element should be [1, 1, 63, -3, -1, 0]\n",
    "- Each element in X2 contains 18 values in total - the first, fifth and tenth sets of sensor readings after an event. The first element should be [-1, -1, 63, -3, -1, 0, -1, -1, 63, -3, -1, 0, -1, -1, 61, -3, 0, 0]\n",
    "\n",
    "y should contain the corresponding classes, represented as integers according the the provided dictionary"
   ]
  },
  {
   "cell_type": "code",
   "execution_count": 1,
   "metadata": {},
   "outputs": [],
   "source": [
    "from sklearn.metrics import classification_report, confusion_matrix\n",
    "from sklearn.preprocessing import StandardScaler\n",
    "from sklearn.neural_network import MLPClassifier as MLPC\n",
    "from sklearn.model_selection import train_test_split\n",
    "import matplotlib.pyplot as plt\n",
    "import numpy as np"
   ]
  },
  {
   "cell_type": "code",
   "execution_count": 2,
   "metadata": {},
   "outputs": [],
   "source": [
    "files = ['robot_execution_failure/lp1.data', 'robot_execution_failure/lp2.data',\n",
    "'robot_execution_failure/lp3.data', 'robot_execution_failure/lp4.data', 'robot_execution_failure/lp5.data']\n",
    "classes = {'normal':0, 'collision':1, 'obstruction':2, 'fr_collision':3}"
   ]
  },
  {
   "cell_type": "code",
   "execution_count": 3,
   "metadata": {},
   "outputs": [],
   "source": [
    "filename = 'combine_files.csv'               # assign to filename a csv filename \n",
    "with open(filename, 'w') as combination:     # open the filename as combination \n",
    "    for file in files:                       # iterate on the different dataset files\n",
    "        with open(file, 'r') as f:                # open each dataset file as f\n",
    "            combination.write(f.read())      # write the content of each on combine_files"
   ]
  },
  {
   "cell_type": "code",
   "execution_count": 4,
   "metadata": {},
   "outputs": [
    {
     "data": {
      "text/plain": [
       "['normal\\n',\n",
       " '\\t-1\\t-1\\t63\\t-3\\t-1\\t0\\n',\n",
       " '\\t0\\t0\\t62\\t-3\\t-1\\t0\\n',\n",
       " '\\t-1\\t-1\\t61\\t-3\\t0\\t0\\n',\n",
       " '\\t-1\\t-1\\t63\\t-2\\t-1\\t0\\n']"
      ]
     },
     "execution_count": 4,
     "metadata": {},
     "output_type": "execute_result"
    }
   ],
   "source": [
    "f1 = open('combine_files.csv', 'r')\n",
    "lines = f1.readlines() \n",
    "lines[:5]                                    # Return the first five lines."
   ]
  },
  {
   "cell_type": "code",
   "execution_count": 5,
   "metadata": {},
   "outputs": [],
   "source": [
    "X1 = [] # inputs\n",
    "y = [] # true values\n",
    "classes = {'normal':0, 'collision':1, 'obstruction':2, 'fr_collision':3} # Encoding the classes as integers\n",
    "\n",
    "# Here, we iterate over the lines of the file. If a line matches one of our classes, we split the next line \n",
    "# to get the six readings and use those as our features. \n",
    "for i in range(len(lines) - 1):\n",
    "    line = lines[i].strip() # .strip() removes the line endings \\n\n",
    "    if line in classes.keys(): # If the line matches one of our classes (for eg, 'normal')\n",
    "        features = [int(x) for x in lines[i+1].strip().split('\\t')] # Split the next line to get our features\n",
    "        X1.append(features)\n",
    "        y.append(classes[line]) # And record which class this set of features belongs to"
   ]
  },
  {
   "cell_type": "code",
   "execution_count": 6,
   "metadata": {},
   "outputs": [
    {
     "data": {
      "text/plain": [
       "array([-1, -1, 63, -3, -1,  0])"
      ]
     },
     "execution_count": 6,
     "metadata": {},
     "output_type": "execute_result"
    }
   ],
   "source": [
    "X1 = np.array(X1)\n",
    "X1[0]"
   ]
  },
  {
   "cell_type": "code",
   "execution_count": 7,
   "metadata": {},
   "outputs": [
    {
     "data": {
      "text/plain": [
       "269"
      ]
     },
     "execution_count": 7,
     "metadata": {},
     "output_type": "execute_result"
    }
   ],
   "source": [
    "len(X1)"
   ]
  },
  {
   "cell_type": "code",
   "execution_count": 8,
   "metadata": {},
   "outputs": [],
   "source": [
    "X2 = [] # inputs\n",
    "y = [] # true values\n",
    "classes = {'normal':0, 'collision':1, 'obstruction':2, 'fr_collision':3} # Encoding the classes as integers\n",
    "\n",
    "# Here, we iterate over the lines of the file. If a line matches one of our classes, we split the next line \n",
    "# to get the six readings and use those as our features. \n",
    "for i in range(len(lines) - 1):\n",
    "    line = lines[i].strip() # .strip() removes the line endings \\n\n",
    "    if line in classes.keys(): # If the line matches one of our classes (for eg, 'normal')\n",
    "        a = [int(x) for x in lines[i+1].strip().split('\\t')] # Split the first next five lines \n",
    "        b = [int(x) for x in lines[i+5].strip().split('\\t')] # Split the next five lines from the fifth\n",
    "        c = [int(x) for x in lines[i+10].strip().split('\\t')] # Split the next five lines from the tenth\n",
    "        X2.append(a + b + c)\n",
    "        y.append(classes[line]) # And record which class this set of features belongs to"
   ]
  },
  {
   "cell_type": "code",
   "execution_count": 9,
   "metadata": {},
   "outputs": [
    {
     "data": {
      "text/plain": [
       "array([-1, -1, 63, -3, -1,  0, -1, -1, 63, -3, -1,  0, -1, -1, 61, -3,  0,\n",
       "        0])"
      ]
     },
     "execution_count": 9,
     "metadata": {},
     "output_type": "execute_result"
    }
   ],
   "source": [
    "X2 = np.array(X2)\n",
    "X2[0]"
   ]
  },
  {
   "cell_type": "code",
   "execution_count": 10,
   "metadata": {},
   "outputs": [
    {
     "data": {
      "text/plain": [
       "269"
      ]
     },
     "execution_count": 10,
     "metadata": {},
     "output_type": "execute_result"
    }
   ],
   "source": [
    "len(X2)"
   ]
  },
  {
   "cell_type": "markdown",
   "metadata": {},
   "source": [
    "## Step 2: establishing a baseline"
   ]
  },
  {
   "cell_type": "markdown",
   "metadata": {},
   "source": [
    "Using techniques covered in this unit, split X1 and y into separate training and testing sets. Use the training set to train a neural network (MLPClassifier) using default parameters but with hidden_layer_sizes=(20, 20, 20). Use the test data you held back to score the model you have created. How well does it perform? Print out the score and confusion matrix. For more accuracy, run through these steps 10 times and find the average score - bonus points for running more times and getting a standard deviation!"
   ]
  },
  {
   "cell_type": "markdown",
   "metadata": {},
   "source": [
    "#### Let us first split data into training and test set."
   ]
  },
  {
   "cell_type": "code",
   "execution_count": 11,
   "metadata": {},
   "outputs": [],
   "source": [
    "# Let us split data into train and test set\n",
    "X1_train, X1_test, y_train, y_test = train_test_split(X1, y, test_size=0.2, random_state=42)"
   ]
  },
  {
   "cell_type": "code",
   "execution_count": 12,
   "metadata": {},
   "outputs": [
    {
     "data": {
      "text/plain": [
       "215"
      ]
     },
     "execution_count": 12,
     "metadata": {},
     "output_type": "execute_result"
    }
   ],
   "source": [
    "len(X1_train)"
   ]
  },
  {
   "cell_type": "code",
   "execution_count": 13,
   "metadata": {},
   "outputs": [
    {
     "data": {
      "text/plain": [
       "54"
      ]
     },
     "execution_count": 13,
     "metadata": {},
     "output_type": "execute_result"
    }
   ],
   "source": [
    "len(X1_test)"
   ]
  },
  {
   "cell_type": "code",
   "execution_count": 14,
   "metadata": {},
   "outputs": [],
   "source": [
    "# Preparing and scaling the inputs\n",
    "scaler = StandardScaler()\n",
    "X1_train = scaler.fit_transform(X1_train)\n",
    "X1_test  = scaler.transform(X1_test)"
   ]
  },
  {
   "cell_type": "code",
   "execution_count": 15,
   "metadata": {},
   "outputs": [],
   "source": [
    "# Creating the neural network\n",
    "mlp = MLPC(hidden_layer_sizes=(20,20,20), max_iter =10000)"
   ]
  },
  {
   "cell_type": "code",
   "execution_count": 16,
   "metadata": {},
   "outputs": [
    {
     "data": {
      "text/plain": [
       "MLPClassifier(activation='relu', alpha=0.0001, batch_size='auto', beta_1=0.9,\n",
       "              beta_2=0.999, early_stopping=False, epsilon=1e-08,\n",
       "              hidden_layer_sizes=(20, 20, 20), learning_rate='constant',\n",
       "              learning_rate_init=0.001, max_iter=10000, momentum=0.9,\n",
       "              n_iter_no_change=10, nesterovs_momentum=True, power_t=0.5,\n",
       "              random_state=None, shuffle=True, solver='adam', tol=0.0001,\n",
       "              validation_fraction=0.1, verbose=False, warm_start=False)"
      ]
     },
     "execution_count": 16,
     "metadata": {},
     "output_type": "execute_result"
    }
   ],
   "source": [
    "# let us fit or train data\n",
    "mlp.fit(X1_train, y_train)"
   ]
  },
  {
   "cell_type": "markdown",
   "metadata": {},
   "source": [
    "#### How well does it perform? Print out the score and confusion matrix"
   ]
  },
  {
   "cell_type": "code",
   "execution_count": 17,
   "metadata": {},
   "outputs": [],
   "source": [
    "# Use test set to set back the score\n",
    "prediction = mlp.predict(X1_test)"
   ]
  },
  {
   "cell_type": "code",
   "execution_count": 18,
   "metadata": {},
   "outputs": [
    {
     "name": "stdout",
     "output_type": "stream",
     "text": [
      "0.7592592592592593\n",
      "[[22  0  0  1]\n",
      " [ 1 12  4  1]\n",
      " [ 1  3  6  0]\n",
      " [ 1  1  0  1]]\n"
     ]
    }
   ],
   "source": [
    "# The score - pretty good! ~96% accuracy (will vary depending on the random weights the model started with)\n",
    "print(mlp.score(X1_test, y_test))\n",
    "# The confusion matrix gives a better picture of what errors are slipping in\n",
    "print(confusion_matrix(y_test,prediction))"
   ]
  },
  {
   "cell_type": "code",
   "execution_count": 19,
   "metadata": {},
   "outputs": [],
   "source": [
    "scores = mlp.score(X1_test, y_test)"
   ]
  },
  {
   "cell_type": "code",
   "execution_count": 20,
   "metadata": {},
   "outputs": [],
   "source": [
    "# Let us run and save the result in a file calls scoreResult.csv\n",
    "filename = 'scoreResult.csv'\n",
    "with open(filename, 'a') as file:                 # open the filename as file \n",
    "    file.write(str(scores) + '\\n')                # write the content of each on scoreResult.csv"
   ]
  },
  {
   "cell_type": "code",
   "execution_count": 21,
   "metadata": {},
   "outputs": [
    {
     "name": "stdout",
     "output_type": "stream",
     "text": [
      "[0.77777778 0.77777778 0.75925926 0.74074074 0.77777778 0.7962963\n",
      " 0.77777778 0.77777778 0.75925926 0.75925926 0.72222222 0.72222222\n",
      " 0.75925926 0.75925926 0.72222222 0.74074074 0.72222222 0.77777778\n",
      " 0.7037037  0.75925926 0.75925926 0.74074074 0.74074074 0.72222222\n",
      " 0.74074074 0.77777778 0.77777778 0.75925926 0.75925926 0.7037037\n",
      " 0.74074074 0.72222222 0.7037037  0.75925926 0.74074074 0.77777778\n",
      " 0.77777778 0.72222222 0.77777778 0.7037037  0.75925926 0.75925926]\n"
     ]
    },
    {
     "data": {
      "text/plain": [
       "array([ 0,  1,  2,  3,  4,  5,  6,  7,  8,  9, 10, 11, 12, 13, 14, 15, 16,\n",
       "       17, 18, 19, 20, 21, 22, 23, 24, 25, 26, 27, 28, 29, 30, 31, 32, 33,\n",
       "       34, 35, 36, 37, 38, 39, 40, 41])"
      ]
     },
     "execution_count": 21,
     "metadata": {},
     "output_type": "execute_result"
    }
   ],
   "source": [
    "y_values = [line.rstrip('\\n') for line in open('scoreResult.csv', 'r')]\n",
    "y_values_new = []\n",
    "for item in y_values:\n",
    "    y_values_new.append(float(item)) \n",
    "y_values_new = np.array(y_values_new)\n",
    "print(y_values_new)\n",
    "X = np.array([int(i) for i in range(0,len(y_values_new))])   # Number of iterations\n",
    "X "
   ]
  },
  {
   "cell_type": "code",
   "execution_count": 22,
   "metadata": {},
   "outputs": [
    {
     "name": "stdout",
     "output_type": "stream",
     "text": [
      "Mean Score of the Performace is 0.7504409171075838\n"
     ]
    }
   ],
   "source": [
    "#Calculate the average of the scores \n",
    "Mean_Score = y_values_new.mean()\n",
    "Mean_Score\n",
    "print('Mean Score of the Performace is',\"\"+ str(Mean_Score))"
   ]
  },
  {
   "cell_type": "code",
   "execution_count": 23,
   "metadata": {},
   "outputs": [
    {
     "name": "stdout",
     "output_type": "stream",
     "text": [
      "Std_deviation of the Performace is 0.024988760697186523\n"
     ]
    }
   ],
   "source": [
    "#Calculate the Standard deviation of the scores\n",
    "Std_deviation_Score = y_values_new.std()\n",
    "Std_deviation_Score\n",
    "\n",
    "print('Std_deviation of the Performace is',\"\"+ str(Std_deviation_Score))"
   ]
  },
  {
   "cell_type": "code",
   "execution_count": 24,
   "metadata": {},
   "outputs": [
    {
     "data": {
      "text/plain": [
       "(array([-10.,   0.,  10.,  20.,  30.,  40.,  50.]),\n",
       " <a list of 7 Text major ticklabel objects>)"
      ]
     },
     "execution_count": 24,
     "metadata": {},
     "output_type": "execute_result"
    },
    {
     "data": {
      "image/png": "[encoded data removed]",
      "text/plain": [
       "<Figure size 720x288 with 1 Axes>"
      ]
     },
     "metadata": {
      "needs_background": "light"
     },
     "output_type": "display_data"
    }
   ],
   "source": [
    "# plot the Evolution of Score with Number of Iteration\n",
    "fig = plt.figure(figsize=(10,4))\n",
    "plt.plot(X, y_values_new, color ='red')\n",
    "plt.title('Evolution of Score with Number of Iteration ')\n",
    "plt.xlabel('Number of Iterations')\n",
    "plt.ylabel('Model Scores')\n",
    "plt.xticks(rotation=90)"
   ]
  },
  {
   "cell_type": "markdown",
   "metadata": {},
   "source": [
    "If you're getting a convergence warning, you could try having the model train over more iterations - change max_iter = 1000 or 10,000. Does this improve the average score?"
   ]
  },
  {
   "cell_type": "code",
   "execution_count": 25,
   "metadata": {},
   "outputs": [],
   "source": [
    "# Creating the neural network\n",
    "mlp = MLPC(hidden_layer_sizes=(20,20,20), max_iter =1000)"
   ]
  },
  {
   "cell_type": "code",
   "execution_count": 26,
   "metadata": {},
   "outputs": [
    {
     "data": {
      "text/plain": [
       "MLPClassifier(activation='relu', alpha=0.0001, batch_size='auto', beta_1=0.9,\n",
       "              beta_2=0.999, early_stopping=False, epsilon=1e-08,\n",
       "              hidden_layer_sizes=(20, 20, 20), learning_rate='constant',\n",
       "              learning_rate_init=0.001, max_iter=1000, momentum=0.9,\n",
       "              n_iter_no_change=10, nesterovs_momentum=True, power_t=0.5,\n",
       "              random_state=None, shuffle=True, solver='adam', tol=0.0001,\n",
       "              validation_fraction=0.1, verbose=False, warm_start=False)"
      ]
     },
     "execution_count": 26,
     "metadata": {},
     "output_type": "execute_result"
    }
   ],
   "source": [
    "# let us fit or train data\n",
    "mlp.fit(X1_train, y_train)"
   ]
  },
  {
   "cell_type": "code",
   "execution_count": 27,
   "metadata": {},
   "outputs": [],
   "source": [
    "# Use test set to set back the score\n",
    "prediction = mlp.predict(X1_test)"
   ]
  },
  {
   "cell_type": "code",
   "execution_count": 28,
   "metadata": {},
   "outputs": [
    {
     "name": "stdout",
     "output_type": "stream",
     "text": [
      "0.7222222222222222\n",
      "[[22  0  0  1]\n",
      " [ 1 12  2  3]\n",
      " [ 1  5  4  0]\n",
      " [ 1  1  0  1]]\n"
     ]
    }
   ],
   "source": [
    "# The score - pretty good! ~96% accuracy (will vary depending on the random weights the model started with)\n",
    "scores = mlp.score(X1_test, y_test)\n",
    "print(scores)\n",
    "# The confusion matrix gives a better picture of what errors are slipping in\n",
    "print(confusion_matrix(y_test,prediction))"
   ]
  },
  {
   "cell_type": "code",
   "execution_count": 29,
   "metadata": {},
   "outputs": [],
   "source": [
    "# Let us run and save the result in a file calls scoreResult.csv\n",
    "filename = 'scoreResult1.csv'\n",
    "with open(filename, 'a') as file:                 # open the filename as file \n",
    "    file.write(str(scores) + '\\n')                # write the content of each on scoreResult.csv"
   ]
  },
  {
   "cell_type": "code",
   "execution_count": 30,
   "metadata": {},
   "outputs": [
    {
     "name": "stdout",
     "output_type": "stream",
     "text": [
      "[0.74074074 0.68518519 0.77777778 0.77777778 0.75925926 0.77777778\n",
      " 0.7037037  0.75925926 0.74074074 0.72222222 0.74074074 0.72222222\n",
      " 0.74074074 0.74074074 0.66666667 0.75925926 0.74074074 0.74074074\n",
      " 0.74074074 0.75925926 0.77777778 0.7962963  0.77777778 0.72222222\n",
      " 0.72222222 0.75925926 0.74074074 0.74074074 0.7962963  0.72222222]\n"
     ]
    },
    {
     "data": {
      "text/plain": [
       "array([ 0,  1,  2,  3,  4,  5,  6,  7,  8,  9, 10, 11, 12, 13, 14, 15, 16,\n",
       "       17, 18, 19, 20, 21, 22, 23, 24, 25, 26, 27, 28, 29])"
      ]
     },
     "execution_count": 30,
     "metadata": {},
     "output_type": "execute_result"
    }
   ],
   "source": [
    "# Load the scoreResult in a list called y_values_new \n",
    "y_values1 = [line.rstrip('\\n') for line in open('scoreResult1.csv', 'r')]\n",
    "y_values_new1 = []\n",
    "for item in y_values1:\n",
    "    y_values_new1.append(float(item)) \n",
    "y_values_new1 = np.array(y_values_new1)\n",
    "print(y_values_new1)\n",
    "X = np.array([int(i) for i in range(0,len(y_values_new1))])   # Number of iterations\n",
    "X "
   ]
  },
  {
   "cell_type": "code",
   "execution_count": 31,
   "metadata": {},
   "outputs": [
    {
     "name": "stdout",
     "output_type": "stream",
     "text": [
      "Mean Score of the Performace is 0.7450617283950617\n"
     ]
    }
   ],
   "source": [
    "#Calculate the average of the scores \n",
    "Mean_Score = y_values_new1.mean()\n",
    "Mean_Score\n",
    "print('Mean Score of the Performace is',\"\"+ str(Mean_Score))"
   ]
  },
  {
   "cell_type": "code",
   "execution_count": 32,
   "metadata": {},
   "outputs": [
    {
     "name": "stdout",
     "output_type": "stream",
     "text": [
      "Std_deviation of the Performace is 0.029351835624614183\n"
     ]
    }
   ],
   "source": [
    "#Calculate the Standard deviation of the scores\n",
    "Std_deviation_Score = y_values_new1.std()\n",
    "Std_deviation_Score\n",
    "print('Std_deviation of the Performace is',\"\"+ str(Std_deviation_Score))"
   ]
  },
  {
   "cell_type": "code",
   "execution_count": 33,
   "metadata": {},
   "outputs": [
    {
     "data": {
      "text/plain": [
       "(array([-5.,  0.,  5., 10., 15., 20., 25., 30., 35.]),\n",
       " <a list of 9 Text major ticklabel objects>)"
      ]
     },
     "execution_count": 33,
     "metadata": {},
     "output_type": "execute_result"
    },
    {
     "data": {
      "image/png": "[encoded data removed]",
      "text/plain": [
       "<Figure size 720x288 with 1 Axes>"
      ]
     },
     "metadata": {
      "needs_background": "light"
     },
     "output_type": "display_data"
    }
   ],
   "source": [
    "# plot the Evolution of Score with Number of Iteration\n",
    "fig = plt.figure(figsize=(10,4))\n",
    "plt.plot(X, y_values_new1, color ='r', label ='Model Scores')\n",
    "plt.title('Evolution of Score with Number of Iteration ')\n",
    "plt.xlabel('Number of Iterations')\n",
    "plt.ylabel('Model Scores')\n",
    "plt.xticks(rotation=90)"
   ]
  },
  {
   "cell_type": "markdown",
   "metadata": {},
   "source": [
    "## Step 3: adding more inputs"
   ]
  },
  {
   "cell_type": "markdown",
   "metadata": {},
   "source": [
    "Use X2 in place of X1 - does the score increase or decrease? Was this what you expected? How many samples are there in our training set?"
   ]
  },
  {
   "cell_type": "code",
   "execution_count": 34,
   "metadata": {},
   "outputs": [],
   "source": [
    "X2_train, X2_test, y_train, y_test = train_test_split(X2, y, test_size=0.2, random_state=42)"
   ]
  },
  {
   "cell_type": "code",
   "execution_count": 35,
   "metadata": {},
   "outputs": [],
   "source": [
    "# Preparing and scaling the inputs\n",
    "scaler = StandardScaler()\n",
    "X2_train = scaler.fit_transform(X2_train)\n",
    "X2_test  = scaler.transform(X2_test)"
   ]
  },
  {
   "cell_type": "code",
   "execution_count": 36,
   "metadata": {},
   "outputs": [],
   "source": [
    "# Creating the neural network\n",
    "mlp = MLPC(hidden_layer_sizes=(20,20,20), max_iter = 10000)"
   ]
  },
  {
   "cell_type": "code",
   "execution_count": 37,
   "metadata": {},
   "outputs": [
    {
     "data": {
      "text/plain": [
       "MLPClassifier(activation='relu', alpha=0.0001, batch_size='auto', beta_1=0.9,\n",
       "              beta_2=0.999, early_stopping=False, epsilon=1e-08,\n",
       "              hidden_layer_sizes=(20, 20, 20), learning_rate='constant',\n",
       "              learning_rate_init=0.001, max_iter=10000, momentum=0.9,\n",
       "              n_iter_no_change=10, nesterovs_momentum=True, power_t=0.5,\n",
       "              random_state=None, shuffle=True, solver='adam', tol=0.0001,\n",
       "              validation_fraction=0.1, verbose=False, warm_start=False)"
      ]
     },
     "execution_count": 37,
     "metadata": {},
     "output_type": "execute_result"
    }
   ],
   "source": [
    "# Let us fit or tain data\n",
    "mlp.fit(X2_train, y_train)"
   ]
  },
  {
   "cell_type": "code",
   "execution_count": 38,
   "metadata": {},
   "outputs": [],
   "source": [
    "# Use test set to set back the score\n",
    "predictions = mlp.predict(X2_test)"
   ]
  },
  {
   "cell_type": "code",
   "execution_count": 39,
   "metadata": {},
   "outputs": [
    {
     "name": "stdout",
     "output_type": "stream",
     "text": [
      "0.8518518518518519\n",
      "[[23  0  0  0]\n",
      " [ 0 16  1  1]\n",
      " [ 1  3  6  0]\n",
      " [ 1  1  0  1]]\n"
     ]
    }
   ],
   "source": [
    "# The score - pretty good! ~96% accuracy (will vary depending on the random weights the model started with)\n",
    "scores2 = mlp.score(X2_test, y_test)\n",
    "print(scores2)\n",
    "# The confusion matrix gives a better picture of what errors are slipping in\n",
    "print(confusion_matrix(y_test,predictions))"
   ]
  },
  {
   "cell_type": "code",
   "execution_count": 40,
   "metadata": {},
   "outputs": [],
   "source": [
    "# Let us run and save the result in a file calls scoreResult.csv\n",
    "filename = 'scoreResult2.csv'\n",
    "with open(filename, 'a') as file:                 # open the filename as file \n",
    "    file.write(str(scores2) + '\\n')               # write the content of each on scoreResult2.csv"
   ]
  },
  {
   "cell_type": "code",
   "execution_count": 41,
   "metadata": {},
   "outputs": [
    {
     "data": {
      "text/plain": [
       "array([ 0,  1,  2,  3,  4,  5,  6,  7,  8,  9, 10, 11, 12, 13, 14, 15, 16,\n",
       "       17, 18, 19, 20, 21, 22, 23, 24, 25, 26, 27, 28])"
      ]
     },
     "execution_count": 41,
     "metadata": {},
     "output_type": "execute_result"
    }
   ],
   "source": [
    "# Load the scoreResult in a list called y_values_new \n",
    "y_values2 = [line.rstrip('\\n') for line in open('scoreResult2.csv', 'r')]\n",
    "y_values_new2 = []\n",
    "for item in y_values2:\n",
    "    y_values_new2.append(float(item)) \n",
    "y_values_new2 = np.array(y_values_new2)\n",
    "y_values_new2\n",
    "X = np.array([int(i) for i in range(0,len(y_values_new2))])   # Number of iterations\n",
    "X "
   ]
  },
  {
   "cell_type": "code",
   "execution_count": 42,
   "metadata": {},
   "outputs": [
    {
     "name": "stdout",
     "output_type": "stream",
     "text": [
      "Mean Score of the Performace is 0.8122605363984674\n"
     ]
    }
   ],
   "source": [
    "#Calculate the average of the scores \n",
    "Mean_Score = y_values_new2.mean()\n",
    "Mean_Score\n",
    "print('Mean Score of the Performace is',\"\"+ str(Mean_Score))"
   ]
  },
  {
   "cell_type": "code",
   "execution_count": 43,
   "metadata": {},
   "outputs": [
    {
     "name": "stdout",
     "output_type": "stream",
     "text": [
      "Std_deviation of the Performace is 0.02514051045342214\n"
     ]
    }
   ],
   "source": [
    "#Calculate the Standard deviation of the scores\n",
    "Std_deviation_Score = y_values_new2.std()\n",
    "Std_deviation_Score\n",
    "print('Std_deviation of the Performace is',\"\"+ str(Std_deviation_Score))"
   ]
  },
  {
   "cell_type": "code",
   "execution_count": 44,
   "metadata": {},
   "outputs": [
    {
     "data": {
      "text/plain": [
       "(array([-5.,  0.,  5., 10., 15., 20., 25., 30.]),\n",
       " <a list of 8 Text major ticklabel objects>)"
      ]
     },
     "execution_count": 44,
     "metadata": {},
     "output_type": "execute_result"
    },
    {
     "data": {
      "image/png": "[encoded data removed]",
      "text/plain": [
       "<Figure size 432x288 with 1 Axes>"
      ]
     },
     "metadata": {
      "needs_background": "light"
     },
     "output_type": "display_data"
    }
   ],
   "source": [
    "# plot the Evolution of Score with Number of Iteration\n",
    "plt.plot(X, y_values_new2, color ='r', label ='Model Scores')\n",
    "plt.title('Evolution of Score with Number of Iteration ')\n",
    "plt.xlabel('Number of Iterations')\n",
    "plt.ylabel('Model Scores')\n",
    "plt.xticks(rotation=90)"
   ]
  },
  {
   "cell_type": "markdown",
   "metadata": {},
   "source": [
    "Using input X2 the scores increases and this was what we expected since there are more data based on increase in dimension from 6 to 18 even though the number of rows are still the same. The mean score average increased from $0.745$ to $0.852$ and the standard deviation(deviation of the values from the mean) reduces from $0.029$ to $0.0251$ which is expected due to increase in data. Also I noticed that the graph follows the same pattern for the 15 iterations conducted on both X1 and X2 data, even though the values were different. "
   ]
  },
  {
   "cell_type": "markdown",
   "metadata": {},
   "source": [
    "## Step 4: feature engineering"
   ]
  },
  {
   "cell_type": "markdown",
   "metadata": {},
   "source": [
    "Back to X1 as our input. Add an extra feature to each item in the array to represent the total force $f_t$. Assume:\n",
    "\n",
    "$f_t^2 = f_1^2 + f_2^2 + f_3^2$\n",
    "\n",
    "Your first input should now look like this:\n",
    "X1[0] = [-1, -1, 61, -3, 0, 0, 61.0163912403872]"
   ]
  },
  {
   "cell_type": "code",
   "execution_count": 45,
   "metadata": {},
   "outputs": [],
   "source": [
    "import numpy as np\n",
    "X3 = []\n",
    "y = [] # true values\n",
    "classes = {'normal':0, 'collision':1, 'obstruction':2, 'fr_collision':3} # Encoding the classes as integers\n",
    "\n",
    "# Here, we iterate over the lines of the file. If a line matches one of our classes, we split the next line \n",
    "# to get the six readings and use those as our features. \n",
    "for i in range(len(lines) - 1):\n",
    "    line = lines[i].strip() # .strip() removes the line endings \\n\n",
    "    if line in classes.keys(): # If the line matches one of our classes (for eg, 'normal')\n",
    "        a = [int(x) for x in lines[i+10].strip().split('\\t')] # Split the first next five lines \n",
    "        X3.append(a)\n",
    "        y.append(classes[line]) # And record which class this set of features belongs to"
   ]
  },
  {
   "cell_type": "code",
   "execution_count": 46,
   "metadata": {},
   "outputs": [
    {
     "name": "stdout",
     "output_type": "stream",
     "text": [
      "[-1, -1, 61, -3, 0, 0, 61.0163912403872]\n"
     ]
    }
   ],
   "source": [
    "X_new = []\n",
    "for x in X3:\n",
    "    force_squared = x[0]**2 + x[1]**2 + x[2]**2\n",
    "    X_new.append(x + [np.sqrt(force_squared)])\n",
    "print(X_new[0]) # Look at the first input"
   ]
  },
  {
   "cell_type": "code",
   "execution_count": 47,
   "metadata": {},
   "outputs": [],
   "source": [
    "# Convert list to numpy array\n",
    "X3 = np.array(X_new)"
   ]
  },
  {
   "cell_type": "code",
   "execution_count": 48,
   "metadata": {},
   "outputs": [],
   "source": [
    "# Split data into training and test sets.\n",
    "X_train, X_test, y_train, y_test = train_test_split(X3, y, test_size=0.2, random_state=42)"
   ]
  },
  {
   "cell_type": "code",
   "execution_count": 49,
   "metadata": {},
   "outputs": [],
   "source": [
    "# Preparing and scaling the inputs\n",
    "scaler = StandardScaler()\n",
    "X_train = scaler.fit_transform(X_train)\n",
    "X_test  = scaler.transform(X_test)"
   ]
  },
  {
   "cell_type": "code",
   "execution_count": 50,
   "metadata": {},
   "outputs": [],
   "source": [
    "# Creating the neural network\n",
    "mlp = MLPC(hidden_layer_sizes=(30,30,30), max_iter = 10000)"
   ]
  },
  {
   "cell_type": "code",
   "execution_count": 51,
   "metadata": {},
   "outputs": [
    {
     "data": {
      "text/plain": [
       "MLPClassifier(activation='relu', alpha=0.0001, batch_size='auto', beta_1=0.9,\n",
       "              beta_2=0.999, early_stopping=False, epsilon=1e-08,\n",
       "              hidden_layer_sizes=(30, 30, 30), learning_rate='constant',\n",
       "              learning_rate_init=0.001, max_iter=10000, momentum=0.9,\n",
       "              n_iter_no_change=10, nesterovs_momentum=True, power_t=0.5,\n",
       "              random_state=None, shuffle=True, solver='adam', tol=0.0001,\n",
       "              validation_fraction=0.1, verbose=False, warm_start=False)"
      ]
     },
     "execution_count": 51,
     "metadata": {},
     "output_type": "execute_result"
    }
   ],
   "source": [
    "# Let us fit or tain data\n",
    "mlp.fit(X_train, y_train)"
   ]
  },
  {
   "cell_type": "code",
   "execution_count": 52,
   "metadata": {},
   "outputs": [],
   "source": [
    "# Use test set to set back the score\n",
    "predict = mlp.predict(X_test)"
   ]
  },
  {
   "cell_type": "code",
   "execution_count": 53,
   "metadata": {},
   "outputs": [
    {
     "name": "stdout",
     "output_type": "stream",
     "text": [
      "0.7407407407407407\n",
      "[[21  2  0  0]\n",
      " [ 4 12  2  0]\n",
      " [ 2  2  6  0]\n",
      " [ 1  1  0  1]]\n"
     ]
    }
   ],
   "source": [
    "# The score - pretty good! ~96% accuracy (will vary depending on the random weights the model started with)\n",
    "scores3 = mlp.score(X_test, y_test)\n",
    "print(scores3)\n",
    "# The confusion matrix gives a better picture of what errors are slipping in\n",
    "print(confusion_matrix(y_test,predict))"
   ]
  },
  {
   "cell_type": "code",
   "execution_count": 54,
   "metadata": {},
   "outputs": [],
   "source": [
    "# Let us run and save the result in a file calls scoreResult.csv\n",
    "filename = 'scoreResult3.csv'\n",
    "with open(filename, 'a') as file:                 # open the filename as file \n",
    "    file.write(str(scores3) + '\\n')               # write the content of each on scoreResult3.csv"
   ]
  },
  {
   "cell_type": "code",
   "execution_count": 55,
   "metadata": {},
   "outputs": [
    {
     "name": "stdout",
     "output_type": "stream",
     "text": [
      "[0.74074074 0.75925926 0.68518519 0.77777778 0.74074074 0.74074074\n",
      " 0.74074074 0.72222222 0.75925926 0.74074074 0.72222222 0.7037037\n",
      " 0.75925926 0.72222222 0.74074074 0.74074074 0.72222222 0.74074074\n",
      " 0.72222222 0.77777778 0.75925926 0.74074074 0.74074074 0.74074074\n",
      " 0.74074074 0.74074074]\n"
     ]
    },
    {
     "data": {
      "text/plain": [
       "array([ 0,  1,  2,  3,  4,  5,  6,  7,  8,  9, 10, 11, 12, 13, 14, 15, 16,\n",
       "       17, 18, 19, 20, 21, 22, 23, 24, 25])"
      ]
     },
     "execution_count": 55,
     "metadata": {},
     "output_type": "execute_result"
    }
   ],
   "source": [
    "# Load the scoreResult in a list called y_values_new \n",
    "y_values3 = [line.rstrip('\\n') for line in open('scoreResult3.csv', 'r')]\n",
    "y_values_new3 = []\n",
    "for item in y_values3:\n",
    "    y_values_new3.append(float(item)) \n",
    "y_values_new3 = np.array(y_values_new3)\n",
    "print(y_values_new3)\n",
    "X = np.array([int(i) for i in range(0,len(y_values_new3))])   # Number of iterations\n",
    "X "
   ]
  },
  {
   "cell_type": "code",
   "execution_count": 56,
   "metadata": {},
   "outputs": [
    {
     "name": "stdout",
     "output_type": "stream",
     "text": [
      "Mean Score of the Performace is 0.7393162393162392\n"
     ]
    }
   ],
   "source": [
    "#Calculate the average of the scores \n",
    "Mean_Score = y_values_new3.mean()\n",
    "Mean_Score\n",
    "print('Mean Score of the Performace is',\"\"+ str(Mean_Score))"
   ]
  },
  {
   "cell_type": "code",
   "execution_count": 57,
   "metadata": {},
   "outputs": [
    {
     "name": "stdout",
     "output_type": "stream",
     "text": [
      "Std_deviation of the Performace is 0.01984100894185772\n"
     ]
    }
   ],
   "source": [
    "#Calculate the Standard deviation of the scores\n",
    "Std_deviation_Score = y_values_new3.std()\n",
    "Std_deviation_Score\n",
    "print('Std_deviation of the Performace is',\"\"+ str(Std_deviation_Score))"
   ]
  },
  {
   "cell_type": "code",
   "execution_count": 58,
   "metadata": {},
   "outputs": [
    {
     "data": {
      "text/plain": [
       "(array([-5.,  0.,  5., 10., 15., 20., 25., 30.]),\n",
       " <a list of 8 Text major ticklabel objects>)"
      ]
     },
     "execution_count": 58,
     "metadata": {},
     "output_type": "execute_result"
    },
    {
     "data": {
      "image/png": "[encoded data removed]",
      "text/plain": [
       "<Figure size 432x288 with 1 Axes>"
      ]
     },
     "metadata": {
      "needs_background": "light"
     },
     "output_type": "display_data"
    }
   ],
   "source": [
    "# plot the Evolution of Score with Number of Iteration\n",
    "plt.plot(X, y_values_new3, color ='r', label ='Model Scores')\n",
    "plt.title('Evolution of Score with Number of Iteration ')\n",
    "plt.xlabel('Number of Iterations')\n",
    "plt.ylabel('Model Scores')\n",
    "plt.xticks(rotation=90)"
   ]
  },
  {
   "cell_type": "markdown",
   "metadata": {},
   "source": [
    "Repeat the steps from step 2. *Has this extra feature improved model performance?*"
   ]
  },
  {
   "cell_type": "markdown",
   "metadata": {},
   "source": [
    "The extra feature did not improve the model performance, the mean score was lower than X1"
   ]
  },
  {
   "cell_type": "markdown",
   "metadata": {},
   "source": [
    "## Step 5: exploring"
   ]
  },
  {
   "cell_type": "markdown",
   "metadata": {},
   "source": [
    "Create at least 3 more models, adding features or changing the number and size of the hidden layers. Print out the average score for your best model. Comment on what you've found."
   ]
  },
  {
   "cell_type": "markdown",
   "metadata": {},
   "source": [
    "### Let us first add features and have a deeper look"
   ]
  },
  {
   "cell_type": "code",
   "execution_count": 59,
   "metadata": {},
   "outputs": [],
   "source": [
    "X4 = [] # inputs\n",
    "y = [] # true values\n",
    "classes = {'normal':0, 'collision':1, 'obstruction':2, 'fr_collision':3} # Encoding the classes as integers\n",
    "\n",
    "# Here, we iterate over the lines of the file. If a line matches one of our classes, we split the next line \n",
    "# to get the six readings and use those as our features. \n",
    "for i in range(len(lines) - 1):\n",
    "    line = lines[i].strip() # .strip() removes the line endings \\n\n",
    "    if line in classes.keys(): # If the line matches one of our classes (for eg, 'normal')\n",
    "        features = [int(x) for x in lines[i+5].strip().split('\\t')] # Split the next line to get our features\n",
    "        featur = [int(x) for x in lines[i+10].strip().split('\\t')]\n",
    "        X4.append(features + featur)\n",
    "        y.append(classes[line]) # And record which class this set of features belongs to"
   ]
  },
  {
   "cell_type": "code",
   "execution_count": 60,
   "metadata": {},
   "outputs": [],
   "source": [
    "# Convert list to numpy array\n",
    "X4 = np.array(X4)"
   ]
  },
  {
   "cell_type": "code",
   "execution_count": 61,
   "metadata": {},
   "outputs": [],
   "source": [
    "# Split data into training and test sets.\n",
    "X4_train, X4_test, y_train, y_test = train_test_split(X4, y, test_size=0.2, random_state=42)"
   ]
  },
  {
   "cell_type": "code",
   "execution_count": 62,
   "metadata": {},
   "outputs": [],
   "source": [
    "# Preparing and scaling the inputs\n",
    "scaler = StandardScaler()\n",
    "X4_train = scaler.fit_transform(X4_train)\n",
    "X4_test  = scaler.transform(X4_test)"
   ]
  },
  {
   "cell_type": "code",
   "execution_count": 63,
   "metadata": {},
   "outputs": [],
   "source": [
    "# Creating the neural network\n",
    "mlp = MLPC(hidden_layer_sizes=(20,20,20), max_iter = 10000)"
   ]
  },
  {
   "cell_type": "code",
   "execution_count": 64,
   "metadata": {},
   "outputs": [
    {
     "data": {
      "text/plain": [
       "MLPClassifier(activation='relu', alpha=0.0001, batch_size='auto', beta_1=0.9,\n",
       "              beta_2=0.999, early_stopping=False, epsilon=1e-08,\n",
       "              hidden_layer_sizes=(20, 20, 20), learning_rate='constant',\n",
       "              learning_rate_init=0.001, max_iter=10000, momentum=0.9,\n",
       "              n_iter_no_change=10, nesterovs_momentum=True, power_t=0.5,\n",
       "              random_state=None, shuffle=True, solver='adam', tol=0.0001,\n",
       "              validation_fraction=0.1, verbose=False, warm_start=False)"
      ]
     },
     "execution_count": 64,
     "metadata": {},
     "output_type": "execute_result"
    }
   ],
   "source": [
    "# Let us fit or tain data\n",
    "mlp.fit(X4_train, y_train)"
   ]
  },
  {
   "cell_type": "code",
   "execution_count": 65,
   "metadata": {},
   "outputs": [],
   "source": [
    "# Use test set to set back the score\n",
    "predict4 = mlp.predict(X4_test)"
   ]
  },
  {
   "cell_type": "code",
   "execution_count": 66,
   "metadata": {},
   "outputs": [
    {
     "name": "stdout",
     "output_type": "stream",
     "text": [
      "0.7777777777777778\n",
      "[[23  0  0  0]\n",
      " [ 2 13  2  1]\n",
      " [ 1  4  5  0]\n",
      " [ 1  1  0  1]]\n"
     ]
    }
   ],
   "source": [
    "# The score - pretty good! ~96% accuracy (will vary depending on the random weights the model started with)\n",
    "scores3 = mlp.score(X4_test, y_test)\n",
    "print(scores3)\n",
    "# The confusion matrix gives a better picture of what errors are slipping in\n",
    "print(confusion_matrix(y_test,predict4))"
   ]
  },
  {
   "cell_type": "code",
   "execution_count": 67,
   "metadata": {},
   "outputs": [],
   "source": [
    "# Let us run and save the result in a file calls scoreResult.csv\n",
    "filename = 'scoreResult4.csv'\n",
    "with open(filename, 'a') as file:                 # open the filename as file \n",
    "    file.write(str(scores3) + '\\n')               # write the content of each on scoreResult4.csv"
   ]
  },
  {
   "cell_type": "code",
   "execution_count": 68,
   "metadata": {},
   "outputs": [
    {
     "name": "stdout",
     "output_type": "stream",
     "text": [
      "[0.81481481 0.7962963  0.81481481 0.77777778 0.75925926 0.75925926\n",
      " 0.7962963  0.77777778 0.77777778 0.77777778 0.7962963  0.77777778]\n"
     ]
    },
    {
     "data": {
      "text/plain": [
       "array([ 0,  1,  2,  3,  4,  5,  6,  7,  8,  9, 10, 11])"
      ]
     },
     "execution_count": 68,
     "metadata": {},
     "output_type": "execute_result"
    }
   ],
   "source": [
    "# Load the scoreResult in a list called y_values_new \n",
    "y_values4 = [line.rstrip('\\n') for line in open('scoreResult4.csv', 'r')]\n",
    "y_values_new4 = []\n",
    "for item in y_values4:\n",
    "    y_values_new4.append(float(item)) \n",
    "y_values_new4 = np.array(y_values_new4)\n",
    "print(y_values_new4)\n",
    "X = np.array([int(i) for i in range(0,len(y_values_new4))])   # Number of iterations\n",
    "X "
   ]
  },
  {
   "cell_type": "code",
   "execution_count": 69,
   "metadata": {},
   "outputs": [
    {
     "name": "stdout",
     "output_type": "stream",
     "text": [
      "Mean Score of the Performace is 0.7854938271604938\n"
     ]
    }
   ],
   "source": [
    "#Calculate the average of the scores \n",
    "Mean_Score = y_values_new4.mean()\n",
    "Mean_Score\n",
    "print('Mean Score of the Performace is',\"\"+ str(Mean_Score))"
   ]
  },
  {
   "cell_type": "code",
   "execution_count": 70,
   "metadata": {},
   "outputs": [
    {
     "name": "stdout",
     "output_type": "stream",
     "text": [
      "Std_deviation of the Performace is 0.017662844355338856\n"
     ]
    }
   ],
   "source": [
    "#Calculate the Standard deviation of the scores\n",
    "Std_deviation_Score = y_values_new4.std()\n",
    "Std_deviation_Score\n",
    "print('Std_deviation of the Performace is',\"\"+ str(Std_deviation_Score))"
   ]
  },
  {
   "cell_type": "code",
   "execution_count": 71,
   "metadata": {},
   "outputs": [
    {
     "data": {
      "text/plain": [
       "(array([-2.,  0.,  2.,  4.,  6.,  8., 10., 12.]),\n",
       " <a list of 8 Text major ticklabel objects>)"
      ]
     },
     "execution_count": 71,
     "metadata": {},
     "output_type": "execute_result"
    },
    {
     "data": {
      "image/png": "[encoded data removed]",
      "text/plain": [
       "<Figure size 432x288 with 1 Axes>"
      ]
     },
     "metadata": {
      "needs_background": "light"
     },
     "output_type": "display_data"
    }
   ],
   "source": [
    "plt.plot(X, y_values_new4, color ='r', label ='Model Scores')\n",
    "plt.title('Evolution of Score with Number of Iteration ')\n",
    "plt.xlabel('Number of Iterations')\n",
    "plt.ylabel('Model Scores')\n",
    "plt.xticks(rotation=90)"
   ]
  },
  {
   "cell_type": "markdown",
   "metadata": {},
   "source": [
    "### Let us have a look at the second case:"
   ]
  },
  {
   "cell_type": "code",
   "execution_count": 72,
   "metadata": {},
   "outputs": [],
   "source": [
    "X5 = [] # inputs\n",
    "y = [] # true values\n",
    "classes = {'normal':0, 'collision':1, 'obstruction':2, 'fr_collision':3} # Encoding the classes as integers\n",
    "\n",
    "# Here, we iterate over the lines of the file. If a line matches one of our classes, we split the next line \n",
    "# to get the six readings and use those as our features. \n",
    "for i in range(len(lines) - 1):\n",
    "    line = lines[i].strip() # .strip() removes the line endings \\n\n",
    "    if line in classes.keys(): # If the line matches one of our classes (for eg, 'normal')\n",
    "        features = [int(x) for x in lines[i+5].strip().split('\\t')] # Split the next line to get our features\n",
    "        X5.append(features)\n",
    "        y.append(classes[line]) # And record which class this set of features belongs to"
   ]
  },
  {
   "cell_type": "code",
   "execution_count": 73,
   "metadata": {},
   "outputs": [
    {
     "name": "stdout",
     "output_type": "stream",
     "text": [
      "[-1, -1, 63, -3, -1, 0, 63.0158710167526, 3.3166247903554]\n"
     ]
    }
   ],
   "source": [
    "X_new1 = []\n",
    "for x in X5:\n",
    "    force_squared = x[0]**2 + x[1]**2 + x[2]**2\n",
    "    torge_squared = x[3]**2 + x[4]**2 + x[4]**2\n",
    "    X_new1.append(x + [np.sqrt(force_squared)] + [np.sqrt(torge_squared)])\n",
    "print(X_new1[0]) # Look at the first input"
   ]
  },
  {
   "cell_type": "code",
   "execution_count": 74,
   "metadata": {},
   "outputs": [],
   "source": [
    "# Convert list to numpy array\n",
    "X5 = np.array(X_new1)"
   ]
  },
  {
   "cell_type": "code",
   "execution_count": 75,
   "metadata": {},
   "outputs": [],
   "source": [
    "# Split data into training and test sets.\n",
    "X5_train, X5_test, y_train, y_test = train_test_split(X5, y, test_size=0.2, random_state=42)"
   ]
  },
  {
   "cell_type": "code",
   "execution_count": 76,
   "metadata": {},
   "outputs": [],
   "source": [
    "# Preparing and scaling the inputs\n",
    "scaler = StandardScaler()\n",
    "X5_train = scaler.fit_transform(X5_train)\n",
    "X5_test  = scaler.transform(X5_test)"
   ]
  },
  {
   "cell_type": "code",
   "execution_count": 77,
   "metadata": {},
   "outputs": [],
   "source": [
    "# Creating the neural network\n",
    "mlp = MLPC(hidden_layer_sizes=(20,20,20), max_iter = 10000)"
   ]
  },
  {
   "cell_type": "code",
   "execution_count": 78,
   "metadata": {},
   "outputs": [
    {
     "data": {
      "text/plain": [
       "MLPClassifier(activation='relu', alpha=0.0001, batch_size='auto', beta_1=0.9,\n",
       "              beta_2=0.999, early_stopping=False, epsilon=1e-08,\n",
       "              hidden_layer_sizes=(20, 20, 20), learning_rate='constant',\n",
       "              learning_rate_init=0.001, max_iter=10000, momentum=0.9,\n",
       "              n_iter_no_change=10, nesterovs_momentum=True, power_t=0.5,\n",
       "              random_state=None, shuffle=True, solver='adam', tol=0.0001,\n",
       "              validation_fraction=0.1, verbose=False, warm_start=False)"
      ]
     },
     "execution_count": 78,
     "metadata": {},
     "output_type": "execute_result"
    }
   ],
   "source": [
    "# Let us fit or tain data\n",
    "mlp.fit(X5_train, y_train)"
   ]
  },
  {
   "cell_type": "code",
   "execution_count": 79,
   "metadata": {},
   "outputs": [],
   "source": [
    "# Use test set to set back the score\n",
    "predict5 = mlp.predict(X5_test)"
   ]
  },
  {
   "cell_type": "code",
   "execution_count": 80,
   "metadata": {},
   "outputs": [
    {
     "name": "stdout",
     "output_type": "stream",
     "text": [
      "0.7962962962962963\n",
      "[[23  0  0  0]\n",
      " [ 3 14  0  1]\n",
      " [ 0  5  5  0]\n",
      " [ 1  1  0  1]]\n"
     ]
    }
   ],
   "source": [
    "# The score - pretty good! ~96% accuracy (will vary depending on the random weights the model started with)\n",
    "scores5 = mlp.score(X5_test, y_test)\n",
    "print(scores5)\n",
    "# The confusion matrix gives a better picture of what errors are slipping in\n",
    "print(confusion_matrix(y_test,predict5))"
   ]
  },
  {
   "cell_type": "code",
   "execution_count": 81,
   "metadata": {},
   "outputs": [],
   "source": [
    "# Let us run and save the result in a file calls scoreResult.csv\n",
    "filename = 'scoreResult6.csv'\n",
    "with open(filename, 'a') as file:                 # open the filename as file \n",
    "    file.write(str(scores3) + '\\n')               # write the content of each on scoreResult6.csv"
   ]
  },
  {
   "cell_type": "code",
   "execution_count": 82,
   "metadata": {},
   "outputs": [
    {
     "name": "stdout",
     "output_type": "stream",
     "text": [
      "[0.81481481 0.81481481 0.7962963  0.81481481 0.77777778 0.75925926\n",
      " 0.75925926 0.7962963  0.77777778 0.77777778 0.77777778 0.7962963\n",
      " 0.77777778]\n"
     ]
    },
    {
     "data": {
      "text/plain": [
       "array([ 0,  1,  2,  3,  4,  5,  6,  7,  8,  9, 10, 11, 12])"
      ]
     },
     "execution_count": 82,
     "metadata": {},
     "output_type": "execute_result"
    }
   ],
   "source": [
    "# Load the scoreResult in a list called y_values_new \n",
    "y_values6 = [line.rstrip('\\n') for line in open('scoreResult6.csv', 'r')]\n",
    "y_values_new6 = []\n",
    "for item in y_values6:\n",
    "    y_values_new6.append(float(item)) \n",
    "y_values_new6 = np.array(y_values_new6)\n",
    "print(y_values_new6)\n",
    "X = np.array([int(i) for i in range(0,len(y_values_new6))])   # Number of iterations\n",
    "X "
   ]
  },
  {
   "cell_type": "code",
   "execution_count": 83,
   "metadata": {},
   "outputs": [
    {
     "name": "stdout",
     "output_type": "stream",
     "text": [
      "Mean Score of the Performace is 0.7877492877492878\n"
     ]
    }
   ],
   "source": [
    "#Calculate the average of the scores \n",
    "Mean_Score = y_values_new6.mean()\n",
    "Mean_Score\n",
    "print('Mean Score of the Performace is',\"\"+ str(Mean_Score))"
   ]
  },
  {
   "cell_type": "code",
   "execution_count": 84,
   "metadata": {},
   "outputs": [
    {
     "name": "stdout",
     "output_type": "stream",
     "text": [
      "Std_deviation of the Performace is 0.018682161037897407\n"
     ]
    }
   ],
   "source": [
    "#Calculate the Standard deviation of the scores\n",
    "Std_deviation_Score = y_values_new6.std()\n",
    "Std_deviation_Score\n",
    "print('Std_deviation of the Performace is',\"\"+ str(Std_deviation_Score))"
   ]
  },
  {
   "cell_type": "code",
   "execution_count": 85,
   "metadata": {},
   "outputs": [
    {
     "data": {
      "text/plain": [
       "(array([-2.,  0.,  2.,  4.,  6.,  8., 10., 12., 14.]),\n",
       " <a list of 9 Text major ticklabel objects>)"
      ]
     },
     "execution_count": 85,
     "metadata": {},
     "output_type": "execute_result"
    },
    {
     "data": {
      "image/png": "[encoded data removed]",
      "text/plain": [
       "<Figure size 432x288 with 1 Axes>"
      ]
     },
     "metadata": {
      "needs_background": "light"
     },
     "output_type": "display_data"
    }
   ],
   "source": [
    "# plot the Evolution of Score with Number of Iteration\n",
    "plt.plot(X, y_values_new6, color ='r', label ='Model Scores')\n",
    "plt.title('Evolution of Score with Number of Iteration ')\n",
    "plt.xlabel('Number of Iterations')\n",
    "plt.ylabel('Model Scores')\n",
    "plt.xticks(rotation=90)"
   ]
  },
  {
   "cell_type": "markdown",
   "metadata": {},
   "source": [
    "### Let us change the number of hidden layers is X2 to see how it behave"
   ]
  },
  {
   "cell_type": "code",
   "execution_count": 86,
   "metadata": {},
   "outputs": [],
   "source": [
    "X2_train, X2_test, y_train, y_test = train_test_split(X2, y, test_size=0.2, random_state=42)"
   ]
  },
  {
   "cell_type": "code",
   "execution_count": 87,
   "metadata": {},
   "outputs": [],
   "source": [
    "# Preparing and scaling the inputs\n",
    "scaler = StandardScaler()\n",
    "X2_train = scaler.fit_transform(X2_train)\n",
    "X2_test  = scaler.transform(X2_test)"
   ]
  },
  {
   "cell_type": "code",
   "execution_count": 88,
   "metadata": {},
   "outputs": [],
   "source": [
    "# Creating the neural network\n",
    "mlp = MLPC(hidden_layer_sizes=(30,30,30), max_iter = 10000)"
   ]
  },
  {
   "cell_type": "code",
   "execution_count": 89,
   "metadata": {},
   "outputs": [
    {
     "data": {
      "text/plain": [
       "MLPClassifier(activation='relu', alpha=0.0001, batch_size='auto', beta_1=0.9,\n",
       "              beta_2=0.999, early_stopping=False, epsilon=1e-08,\n",
       "              hidden_layer_sizes=(30, 30, 30), learning_rate='constant',\n",
       "              learning_rate_init=0.001, max_iter=10000, momentum=0.9,\n",
       "              n_iter_no_change=10, nesterovs_momentum=True, power_t=0.5,\n",
       "              random_state=None, shuffle=True, solver='adam', tol=0.0001,\n",
       "              validation_fraction=0.1, verbose=False, warm_start=False)"
      ]
     },
     "execution_count": 89,
     "metadata": {},
     "output_type": "execute_result"
    }
   ],
   "source": [
    "# Let us fit or tain data\n",
    "mlp.fit(X2_train, y_train)"
   ]
  },
  {
   "cell_type": "code",
   "execution_count": 90,
   "metadata": {},
   "outputs": [],
   "source": [
    "# Use test set to set back the score\n",
    "predictions = mlp.predict(X2_test)"
   ]
  },
  {
   "cell_type": "code",
   "execution_count": 91,
   "metadata": {},
   "outputs": [
    {
     "name": "stdout",
     "output_type": "stream",
     "text": [
      "0.8333333333333334\n",
      "[[23  0  0  0]\n",
      " [ 1 15  1  1]\n",
      " [ 1  3  6  0]\n",
      " [ 1  1  0  1]]\n"
     ]
    }
   ],
   "source": [
    "# The score - pretty good! ~96% accuracy (will vary depending on the random weights the model started with)\n",
    "scores2 = mlp.score(X2_test, y_test)\n",
    "print(scores2)\n",
    "# The confusion matrix gives a better picture of what errors are slipping in\n",
    "print(confusion_matrix(y_test,predictions))"
   ]
  },
  {
   "cell_type": "code",
   "execution_count": 92,
   "metadata": {},
   "outputs": [],
   "source": [
    "# Let us run and save the result in a file calls scoreResult.csv\n",
    "filename = 'scoreResult5.csv'\n",
    "with open(filename, 'a') as file:                 # open the filename as file \n",
    "    file.write(str(scores2) + '\\n')               # write the content of each on scoreResult2.csv"
   ]
  },
  {
   "cell_type": "code",
   "execution_count": 93,
   "metadata": {},
   "outputs": [
    {
     "name": "stdout",
     "output_type": "stream",
     "text": [
      "[0.85185185 0.83333333 0.77777778 0.77777778 0.81481481 0.85185185\n",
      " 0.7962963  0.83333333 0.81481481 0.81481481 0.81481481 0.85185185\n",
      " 0.83333333 0.81481481 0.81481481 0.81481481 0.7962963  0.85185185\n",
      " 0.77777778 0.85185185 0.83333333 0.83333333]\n"
     ]
    },
    {
     "data": {
      "text/plain": [
       "array([ 0,  1,  2,  3,  4,  5,  6,  7,  8,  9, 10, 11, 12, 13, 14, 15, 16,\n",
       "       17, 18, 19, 20, 21])"
      ]
     },
     "execution_count": 93,
     "metadata": {},
     "output_type": "execute_result"
    }
   ],
   "source": [
    "# Load the scoreResult in a list called y_values_new \n",
    "y_values5 = [line.rstrip('\\n') for line in open('scoreResult5.csv', 'r')]\n",
    "y_values_new5 = []\n",
    "for item in y_values5:\n",
    "    y_values_new5.append(float(item)) \n",
    "y_values_new5 = np.array(y_values_new5)\n",
    "print(y_values_new5)\n",
    "X = np.array([int(i) for i in range(0,len(y_values_new5))]) # Number of iterations\n",
    "X "
   ]
  },
  {
   "cell_type": "code",
   "execution_count": 94,
   "metadata": {},
   "outputs": [
    {
     "name": "stdout",
     "output_type": "stream",
     "text": [
      "Mean Score of the Performace is 0.8207070707070706\n"
     ]
    }
   ],
   "source": [
    "#Calculate the average of the scores \n",
    "Mean_Score = y_values_new5.mean()\n",
    "Mean_Score\n",
    "print('Mean Score of the Performace is',\"\"+ str(Mean_Score))"
   ]
  },
  {
   "cell_type": "code",
   "execution_count": 95,
   "metadata": {},
   "outputs": [
    {
     "name": "stdout",
     "output_type": "stream",
     "text": [
      "Std_deviation of the Performace is 0.023941856318733832\n"
     ]
    }
   ],
   "source": [
    "#Calculate the Standard deviation of the scores\n",
    "Std_deviation_Score = y_values_new5.std()\n",
    "Std_deviation_Score\n",
    "print('Std_deviation of the Performace is',\"\"+ str(Std_deviation_Score))"
   ]
  },
  {
   "cell_type": "code",
   "execution_count": 96,
   "metadata": {},
   "outputs": [
    {
     "data": {
      "text/plain": [
       "(array([-5.,  0.,  5., 10., 15., 20., 25.]),\n",
       " <a list of 7 Text major ticklabel objects>)"
      ]
     },
     "execution_count": 96,
     "metadata": {},
     "output_type": "execute_result"
    },
    {
     "data": {
      "image/png": "[encoded data removed]",
      "text/plain": [
       "<Figure size 432x288 with 1 Axes>"
      ]
     },
     "metadata": {
      "needs_background": "light"
     },
     "output_type": "display_data"
    }
   ],
   "source": [
    "# plot the Evolution of Score with Number of Iteration\n",
    "plt.plot(X, y_values_new5, color ='r', label ='Model Scores')\n",
    "plt.title('Evolution of Score with Number of Iteration ')\n",
    "plt.xlabel('Number of Iterations')\n",
    "plt.ylabel('Model Scores')\n",
    "plt.xticks(rotation=90)"
   ]
  },
  {
   "cell_type": "code",
   "execution_count": null,
   "metadata": {},
   "outputs": [],
   "source": []
  }
 ],
 "metadata": {
  "kernelspec": {
   "display_name": "Python 3",
   "language": "python",
   "name": "python3"
  },
  "language_info": {
   "codemirror_mode": {
    "name": "ipython",
    "version": 3
   },
   "file_extension": ".py",
   "mimetype": "text/x-python",
   "name": "python",
   "nbconvert_exporter": "python",
   "pygments_lexer": "ipython3",
   "version": "3.7.4"
  }
 },
 "nbformat": 4,
 "nbformat_minor": 2
}
