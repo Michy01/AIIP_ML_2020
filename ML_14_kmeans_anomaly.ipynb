{
 "cells": [
  {
   "cell_type": "markdown",
   "metadata": {},
   "source": [
    "# Anonomaly detection with k-means clustering"
   ]
  },
  {
   "cell_type": "markdown",
   "metadata": {},
   "source": [
    "In this notebook we will use k-means clustering to detect anomalies in unlabelled data. i.e. We dont know what anomalies looks like beforehand"
   ]
  },
  {
   "cell_type": "markdown",
   "metadata": {},
   "source": [
    "This dataset comes from the daily measures of sensors in a urban waste water treatment plant. The objective is to classify the operational state of the plant in order to predict faults through the state variables of the plant at each of the stages of the treatment process."
   ]
  },
  {
   "cell_type": "markdown",
   "metadata": {},
   "source": [
    "<img src='water.jpg'>"
   ]
  },
  {
   "cell_type": "markdown",
   "metadata": {},
   "source": [
    "The variables in the data are as follows:\n",
    "\n",
    "| Column   | Description                                                          |\n",
    "|----------|----------------------------------------------------------------------|\n",
    "| Q-E      | (input flow to plant)                                                |\n",
    "| ZN-E     | (input Zinc to plant)                                                |\n",
    "| PH-E     | (input pH to plant)                                                  |\n",
    "| DBO-E    | (input Biological demand of oxygen to plant)                         |\n",
    "| DQO-E    | (input chemical demand of oxygen to plant)                           |\n",
    "| SS-E     | (input suspended solids to plant)                                    |\n",
    "| SSV-E    | (input volatile supended solids to plant)                            |\n",
    "| SED-E    | (input sediments to plant)                                           |\n",
    "| COND-E   | (input conductivity to plant)                                        |\n",
    "| PH-P     | (input pH to primary settler)                                        |\n",
    "| DBO-P    | (input Biological demand of oxygen to primary settler)               |\n",
    "| SS-P     | (input suspended solids to primary settler)                          |\n",
    "| SSV-P    | (input volatile supended solids to primary settler)                  |\n",
    "| SED-P    | (input sediments to primary settler)                                 |\n",
    "| COND-P   | (input conductivity to primary settler)                              |\n",
    "| PH-D     | (input pH to secondary settler)                                      |\n",
    "| DBO-D    | (input Biological demand of oxygen to secondary settler)             |\n",
    "| DQO-D    | (input chemical demand of oxygen to secondary settler)               |\n",
    "| SS-D     | (input suspended solids to secondary settler)                        |\n",
    "| SSV-D    | (input volatile supended solids to secondary settler)                |\n",
    "| SED-D    | (input sediments to secondary settler)                               |\n",
    "| COND-D   | (input conductivity to secondary settler)                            |\n",
    "| PH-S     | (output pH)                                                          |\n",
    "| DBO-S    | (output Biological demand of oxygen)                                 |\n",
    "| DQO-S    | (output chemical demand of oxygen)                                   |\n",
    "| SS-S     | (output suspended solids)                                            |\n",
    "| SSV-S    | (output volatile supended solids)                                    |\n",
    "| SED-S    | (output sediments)                                                   |\n",
    "| COND-S   | (output conductivity)                                                |\n",
    "| RD-DBO-P | (performance input Biological demand of oxygen in primary settler)   |\n",
    "| RD-SS-P  | (performance input suspended solids to primary settler)              |\n",
    "| RD-SED-P | (performance input sediments to primary settler)                     |\n",
    "| RD-DBO-S | (performance input Biological demand of oxygen to secondary settler) |\n",
    "| RD-DQO-S | (performance input chemical demand of oxygen to secondary settler)   |\n",
    "| RD-DBO-G | (global performance input Biological demand of oxygen)               |\n",
    "| RD-DQO-G | (global performance input chemical demand of oxygen)                 |\n",
    "| RD-SS-G  | (global performance input suspended solids)                          |\n",
    "| RD-SED-G | (global performance input sediments)                                 |"
   ]
  },
  {
   "cell_type": "markdown",
   "metadata": {},
   "source": [
    "## load libraries"
   ]
  },
  {
   "cell_type": "code",
   "execution_count": 1,
   "metadata": {},
   "outputs": [],
   "source": [
    "# libraries\n",
    "import pandas as pd\n",
    "import numpy as np\n",
    "\n",
    "import matplotlib\n",
    "from matplotlib import pyplot as plt\n",
    "%matplotlib inline\n",
    "\n",
    "from sklearn import preprocessing\n",
    "from sklearn.decomposition import PCA\n",
    "from sklearn.cluster import KMeans\n"
   ]
  },
  {
   "cell_type": "markdown",
   "metadata": {},
   "source": [
    "## read in data "
   ]
  },
  {
   "cell_type": "code",
   "execution_count": 2,
   "metadata": {},
   "outputs": [
    {
     "data": {
      "text/html": [
       "<div>\n",
       "<style scoped>\n",
       "    .dataframe tbody tr th:only-of-type {\n",
       "        vertical-align: middle;\n",
       "    }\n",
       "\n",
       "    .dataframe tbody tr th {\n",
       "        vertical-align: top;\n",
       "    }\n",
       "\n",
       "    .dataframe thead th {\n",
       "        text-align: right;\n",
       "    }\n",
       "</style>\n",
       "<table border=\"1\" class=\"dataframe\">\n",
       "  <thead>\n",
       "    <tr style=\"text-align: right;\">\n",
       "      <th></th>\n",
       "      <th>Date</th>\n",
       "      <th>Q-E</th>\n",
       "      <th>ZN-E</th>\n",
       "      <th>PH-E</th>\n",
       "      <th>DBO-E</th>\n",
       "      <th>DQO-E</th>\n",
       "      <th>SS-E</th>\n",
       "      <th>SSV-E</th>\n",
       "      <th>SED-E</th>\n",
       "      <th>COND-E</th>\n",
       "      <th>...</th>\n",
       "      <th>COND-S</th>\n",
       "      <th>RD-DBO-P</th>\n",
       "      <th>RD-SS-P</th>\n",
       "      <th>RD-SED-P</th>\n",
       "      <th>RD-DBO-S</th>\n",
       "      <th>RD-DQO-S</th>\n",
       "      <th>RD-DBO-G</th>\n",
       "      <th>RD-DQO-G</th>\n",
       "      <th>RD-SS-G</th>\n",
       "      <th>RD-SED-G</th>\n",
       "    </tr>\n",
       "  </thead>\n",
       "  <tbody>\n",
       "    <tr>\n",
       "      <td>1</td>\n",
       "      <td>1990-03-01</td>\n",
       "      <td>44101.0</td>\n",
       "      <td>1.50</td>\n",
       "      <td>7.8</td>\n",
       "      <td>188.714286</td>\n",
       "      <td>407.0</td>\n",
       "      <td>166.0</td>\n",
       "      <td>66.3</td>\n",
       "      <td>4.500000</td>\n",
       "      <td>2110</td>\n",
       "      <td>...</td>\n",
       "      <td>2000.0</td>\n",
       "      <td>39.085806</td>\n",
       "      <td>58.8</td>\n",
       "      <td>95.5000</td>\n",
       "      <td>83.448049</td>\n",
       "      <td>70.0</td>\n",
       "      <td>89.013646</td>\n",
       "      <td>79.4</td>\n",
       "      <td>87.3</td>\n",
       "      <td>99.60000</td>\n",
       "    </tr>\n",
       "    <tr>\n",
       "      <td>2</td>\n",
       "      <td>1990-03-02</td>\n",
       "      <td>39024.0</td>\n",
       "      <td>3.00</td>\n",
       "      <td>7.7</td>\n",
       "      <td>188.714286</td>\n",
       "      <td>443.0</td>\n",
       "      <td>214.0</td>\n",
       "      <td>69.2</td>\n",
       "      <td>6.500000</td>\n",
       "      <td>2660</td>\n",
       "      <td>...</td>\n",
       "      <td>2590.0</td>\n",
       "      <td>39.085806</td>\n",
       "      <td>60.7</td>\n",
       "      <td>94.8000</td>\n",
       "      <td>83.448049</td>\n",
       "      <td>80.8</td>\n",
       "      <td>89.013646</td>\n",
       "      <td>79.5</td>\n",
       "      <td>92.1</td>\n",
       "      <td>100.00000</td>\n",
       "    </tr>\n",
       "    <tr>\n",
       "      <td>3</td>\n",
       "      <td>1990-03-04</td>\n",
       "      <td>32229.0</td>\n",
       "      <td>5.00</td>\n",
       "      <td>7.6</td>\n",
       "      <td>188.714286</td>\n",
       "      <td>528.0</td>\n",
       "      <td>186.0</td>\n",
       "      <td>69.9</td>\n",
       "      <td>3.400000</td>\n",
       "      <td>1666</td>\n",
       "      <td>...</td>\n",
       "      <td>1888.0</td>\n",
       "      <td>39.085806</td>\n",
       "      <td>58.2</td>\n",
       "      <td>95.6000</td>\n",
       "      <td>83.448049</td>\n",
       "      <td>52.9</td>\n",
       "      <td>89.013646</td>\n",
       "      <td>75.8</td>\n",
       "      <td>88.7</td>\n",
       "      <td>98.50000</td>\n",
       "    </tr>\n",
       "    <tr>\n",
       "      <td>4</td>\n",
       "      <td>1990-03-05</td>\n",
       "      <td>35023.0</td>\n",
       "      <td>3.50</td>\n",
       "      <td>7.9</td>\n",
       "      <td>205.000000</td>\n",
       "      <td>588.0</td>\n",
       "      <td>192.0</td>\n",
       "      <td>65.6</td>\n",
       "      <td>4.500000</td>\n",
       "      <td>2430</td>\n",
       "      <td>...</td>\n",
       "      <td>1840.0</td>\n",
       "      <td>33.100000</td>\n",
       "      <td>64.2</td>\n",
       "      <td>95.3000</td>\n",
       "      <td>87.300000</td>\n",
       "      <td>72.3</td>\n",
       "      <td>90.200000</td>\n",
       "      <td>82.3</td>\n",
       "      <td>89.6</td>\n",
       "      <td>100.00000</td>\n",
       "    </tr>\n",
       "    <tr>\n",
       "      <td>5</td>\n",
       "      <td>1990-03-06</td>\n",
       "      <td>36924.0</td>\n",
       "      <td>1.50</td>\n",
       "      <td>8.0</td>\n",
       "      <td>242.000000</td>\n",
       "      <td>496.0</td>\n",
       "      <td>176.0</td>\n",
       "      <td>64.8</td>\n",
       "      <td>4.000000</td>\n",
       "      <td>2110</td>\n",
       "      <td>...</td>\n",
       "      <td>2120.0</td>\n",
       "      <td>39.085806</td>\n",
       "      <td>62.7</td>\n",
       "      <td>95.6000</td>\n",
       "      <td>83.448049</td>\n",
       "      <td>71.0</td>\n",
       "      <td>92.100000</td>\n",
       "      <td>78.2</td>\n",
       "      <td>87.5</td>\n",
       "      <td>99.50000</td>\n",
       "    </tr>\n",
       "    <tr>\n",
       "      <td>...</td>\n",
       "      <td>...</td>\n",
       "      <td>...</td>\n",
       "      <td>...</td>\n",
       "      <td>...</td>\n",
       "      <td>...</td>\n",
       "      <td>...</td>\n",
       "      <td>...</td>\n",
       "      <td>...</td>\n",
       "      <td>...</td>\n",
       "      <td>...</td>\n",
       "      <td>...</td>\n",
       "      <td>...</td>\n",
       "      <td>...</td>\n",
       "      <td>...</td>\n",
       "      <td>...</td>\n",
       "      <td>...</td>\n",
       "      <td>...</td>\n",
       "      <td>...</td>\n",
       "      <td>...</td>\n",
       "      <td>...</td>\n",
       "      <td>...</td>\n",
       "    </tr>\n",
       "    <tr>\n",
       "      <td>523</td>\n",
       "      <td>1991-08-26</td>\n",
       "      <td>32723.0</td>\n",
       "      <td>0.16</td>\n",
       "      <td>7.7</td>\n",
       "      <td>93.000000</td>\n",
       "      <td>252.0</td>\n",
       "      <td>176.0</td>\n",
       "      <td>56.8</td>\n",
       "      <td>2.300000</td>\n",
       "      <td>894</td>\n",
       "      <td>...</td>\n",
       "      <td>942.0</td>\n",
       "      <td>39.085806</td>\n",
       "      <td>62.3</td>\n",
       "      <td>93.3000</td>\n",
       "      <td>69.800000</td>\n",
       "      <td>75.9</td>\n",
       "      <td>79.600000</td>\n",
       "      <td>78.6</td>\n",
       "      <td>96.6</td>\n",
       "      <td>99.60000</td>\n",
       "    </tr>\n",
       "    <tr>\n",
       "      <td>524</td>\n",
       "      <td>1991-08-27</td>\n",
       "      <td>33535.0</td>\n",
       "      <td>0.32</td>\n",
       "      <td>7.8</td>\n",
       "      <td>192.000000</td>\n",
       "      <td>346.0</td>\n",
       "      <td>172.0</td>\n",
       "      <td>68.6</td>\n",
       "      <td>4.000000</td>\n",
       "      <td>988</td>\n",
       "      <td>...</td>\n",
       "      <td>950.0</td>\n",
       "      <td>39.085806</td>\n",
       "      <td>58.3</td>\n",
       "      <td>97.8000</td>\n",
       "      <td>83.000000</td>\n",
       "      <td>59.1</td>\n",
       "      <td>91.100000</td>\n",
       "      <td>74.6</td>\n",
       "      <td>90.7</td>\n",
       "      <td>100.00000</td>\n",
       "    </tr>\n",
       "    <tr>\n",
       "      <td>525</td>\n",
       "      <td>1991-08-28</td>\n",
       "      <td>32922.0</td>\n",
       "      <td>0.30</td>\n",
       "      <td>7.4</td>\n",
       "      <td>139.000000</td>\n",
       "      <td>367.0</td>\n",
       "      <td>180.0</td>\n",
       "      <td>64.4</td>\n",
       "      <td>3.000000</td>\n",
       "      <td>1060</td>\n",
       "      <td>...</td>\n",
       "      <td>1136.0</td>\n",
       "      <td>39.085806</td>\n",
       "      <td>65.0</td>\n",
       "      <td>97.1000</td>\n",
       "      <td>76.200000</td>\n",
       "      <td>66.4</td>\n",
       "      <td>82.000000</td>\n",
       "      <td>77.1</td>\n",
       "      <td>88.9</td>\n",
       "      <td>99.00000</td>\n",
       "    </tr>\n",
       "    <tr>\n",
       "      <td>526</td>\n",
       "      <td>1991-08-29</td>\n",
       "      <td>32190.0</td>\n",
       "      <td>0.30</td>\n",
       "      <td>7.3</td>\n",
       "      <td>200.000000</td>\n",
       "      <td>545.0</td>\n",
       "      <td>258.0</td>\n",
       "      <td>65.1</td>\n",
       "      <td>4.000000</td>\n",
       "      <td>1260</td>\n",
       "      <td>...</td>\n",
       "      <td>1326.0</td>\n",
       "      <td>39.800000</td>\n",
       "      <td>65.9</td>\n",
       "      <td>97.1000</td>\n",
       "      <td>81.700000</td>\n",
       "      <td>70.9</td>\n",
       "      <td>89.500000</td>\n",
       "      <td>87.0</td>\n",
       "      <td>89.5</td>\n",
       "      <td>99.80000</td>\n",
       "    </tr>\n",
       "    <tr>\n",
       "      <td>527</td>\n",
       "      <td>1991-08-30</td>\n",
       "      <td>30488.0</td>\n",
       "      <td>0.21</td>\n",
       "      <td>7.5</td>\n",
       "      <td>152.000000</td>\n",
       "      <td>300.0</td>\n",
       "      <td>132.0</td>\n",
       "      <td>69.7</td>\n",
       "      <td>4.593825</td>\n",
       "      <td>1073</td>\n",
       "      <td>...</td>\n",
       "      <td>1224.0</td>\n",
       "      <td>39.085806</td>\n",
       "      <td>69.5</td>\n",
       "      <td>90.5542</td>\n",
       "      <td>81.700000</td>\n",
       "      <td>76.4</td>\n",
       "      <td>89.013646</td>\n",
       "      <td>81.7</td>\n",
       "      <td>86.4</td>\n",
       "      <td>99.08629</td>\n",
       "    </tr>\n",
       "  </tbody>\n",
       "</table>\n",
       "<p>527 rows × 39 columns</p>\n",
       "</div>"
      ],
      "text/plain": [
       "           Date      Q-E  ZN-E  PH-E       DBO-E  DQO-E   SS-E  SSV-E  \\\n",
       "1    1990-03-01  44101.0  1.50   7.8  188.714286  407.0  166.0   66.3   \n",
       "2    1990-03-02  39024.0  3.00   7.7  188.714286  443.0  214.0   69.2   \n",
       "3    1990-03-04  32229.0  5.00   7.6  188.714286  528.0  186.0   69.9   \n",
       "4    1990-03-05  35023.0  3.50   7.9  205.000000  588.0  192.0   65.6   \n",
       "5    1990-03-06  36924.0  1.50   8.0  242.000000  496.0  176.0   64.8   \n",
       "..          ...      ...   ...   ...         ...    ...    ...    ...   \n",
       "523  1991-08-26  32723.0  0.16   7.7   93.000000  252.0  176.0   56.8   \n",
       "524  1991-08-27  33535.0  0.32   7.8  192.000000  346.0  172.0   68.6   \n",
       "525  1991-08-28  32922.0  0.30   7.4  139.000000  367.0  180.0   64.4   \n",
       "526  1991-08-29  32190.0  0.30   7.3  200.000000  545.0  258.0   65.1   \n",
       "527  1991-08-30  30488.0  0.21   7.5  152.000000  300.0  132.0   69.7   \n",
       "\n",
       "        SED-E  COND-E  ...  COND-S   RD-DBO-P  RD-SS-P  RD-SED-P   RD-DBO-S  \\\n",
       "1    4.500000    2110  ...  2000.0  39.085806     58.8   95.5000  83.448049   \n",
       "2    6.500000    2660  ...  2590.0  39.085806     60.7   94.8000  83.448049   \n",
       "3    3.400000    1666  ...  1888.0  39.085806     58.2   95.6000  83.448049   \n",
       "4    4.500000    2430  ...  1840.0  33.100000     64.2   95.3000  87.300000   \n",
       "5    4.000000    2110  ...  2120.0  39.085806     62.7   95.6000  83.448049   \n",
       "..        ...     ...  ...     ...        ...      ...       ...        ...   \n",
       "523  2.300000     894  ...   942.0  39.085806     62.3   93.3000  69.800000   \n",
       "524  4.000000     988  ...   950.0  39.085806     58.3   97.8000  83.000000   \n",
       "525  3.000000    1060  ...  1136.0  39.085806     65.0   97.1000  76.200000   \n",
       "526  4.000000    1260  ...  1326.0  39.800000     65.9   97.1000  81.700000   \n",
       "527  4.593825    1073  ...  1224.0  39.085806     69.5   90.5542  81.700000   \n",
       "\n",
       "     RD-DQO-S   RD-DBO-G  RD-DQO-G  RD-SS-G   RD-SED-G  \n",
       "1        70.0  89.013646      79.4     87.3   99.60000  \n",
       "2        80.8  89.013646      79.5     92.1  100.00000  \n",
       "3        52.9  89.013646      75.8     88.7   98.50000  \n",
       "4        72.3  90.200000      82.3     89.6  100.00000  \n",
       "5        71.0  92.100000      78.2     87.5   99.50000  \n",
       "..        ...        ...       ...      ...        ...  \n",
       "523      75.9  79.600000      78.6     96.6   99.60000  \n",
       "524      59.1  91.100000      74.6     90.7  100.00000  \n",
       "525      66.4  82.000000      77.1     88.9   99.00000  \n",
       "526      70.9  89.500000      87.0     89.5   99.80000  \n",
       "527      76.4  89.013646      81.7     86.4   99.08629  \n",
       "\n",
       "[527 rows x 39 columns]"
      ]
     },
     "execution_count": 2,
     "metadata": {},
     "output_type": "execute_result"
    }
   ],
   "source": [
    "df = pd.read_csv(\"anomaly_water_clean.csv\",index_col=0)\n",
    "df"
   ]
  },
  {
   "cell_type": "markdown",
   "metadata": {},
   "source": [
    "## understand data"
   ]
  },
  {
   "cell_type": "code",
   "execution_count": 3,
   "metadata": {},
   "outputs": [
    {
     "name": "stdout",
     "output_type": "stream",
     "text": [
      "<class 'pandas.core.frame.DataFrame'>\n",
      "Int64Index: 527 entries, 1 to 527\n",
      "Data columns (total 39 columns):\n",
      "Date        527 non-null object\n",
      "Q-E         527 non-null float64\n",
      "ZN-E        527 non-null float64\n",
      "PH-E        527 non-null float64\n",
      "DBO-E       527 non-null float64\n",
      "DQO-E       527 non-null float64\n",
      "SS-E        527 non-null float64\n",
      "SSV-E       527 non-null float64\n",
      "SED-E       527 non-null float64\n",
      "COND-E      527 non-null int64\n",
      "PH-P        527 non-null float64\n",
      "DBO-P       527 non-null float64\n",
      "SS-P        527 non-null int64\n",
      "SSV-P       527 non-null float64\n",
      "SED-P       527 non-null float64\n",
      "COND-P      527 non-null int64\n",
      "PH-D        527 non-null float64\n",
      "DBO-D       527 non-null float64\n",
      "DQO-D       527 non-null float64\n",
      "SS-D        527 non-null float64\n",
      "SSV-D       527 non-null float64\n",
      "SED-D       527 non-null float64\n",
      "COND-D      527 non-null int64\n",
      "PH-S        527 non-null float64\n",
      "DBO-S       527 non-null float64\n",
      "DQO-S       527 non-null float64\n",
      "SS-S        527 non-null float64\n",
      "SSV-S       527 non-null float64\n",
      "SED-S       527 non-null float64\n",
      "COND-S      527 non-null float64\n",
      "RD-DBO-P    527 non-null float64\n",
      "RD-SS-P     527 non-null float64\n",
      "RD-SED-P    527 non-null float64\n",
      "RD-DBO-S    527 non-null float64\n",
      "RD-DQO-S    527 non-null float64\n",
      "RD-DBO-G    527 non-null float64\n",
      "RD-DQO-G    527 non-null float64\n",
      "RD-SS-G     527 non-null float64\n",
      "RD-SED-G    527 non-null float64\n",
      "dtypes: float64(34), int64(4), object(1)\n",
      "memory usage: 164.7+ KB\n",
      "None\n"
     ]
    }
   ],
   "source": [
    "print(df.info())"
   ]
  },
  {
   "cell_type": "code",
   "execution_count": 4,
   "metadata": {},
   "outputs": [
    {
     "name": "stdout",
     "output_type": "stream",
     "text": [
      "1     1990-03-01\n",
      "2     1990-03-02\n",
      "3     1990-03-04\n",
      "4     1990-03-05\n",
      "5     1990-03-06\n",
      "6     1990-03-07\n",
      "7     1990-03-08\n",
      "8     1990-03-09\n",
      "9     1990-03-11\n",
      "10    1990-03-12\n",
      "Name: Date, dtype: object\n"
     ]
    }
   ],
   "source": [
    "# check the timestamp format and frequency\n",
    "print(df['Date'].head(10))"
   ]
  },
  {
   "cell_type": "code",
   "execution_count": 5,
   "metadata": {},
   "outputs": [
    {
     "data": {
      "text/plain": [
       "<matplotlib.axes._subplots.AxesSubplot at 0x11e7f1690>"
      ]
     },
     "execution_count": 5,
     "metadata": {},
     "output_type": "execute_result"
    },
    {
     "data": {
      "image/png": "[encoded data removed]",
      "text/plain": [
       "<Figure size 432x288 with 1 Axes>"
      ]
     },
     "metadata": {
      "needs_background": "light"
     },
     "output_type": "display_data"
    }
   ],
   "source": [
    "# change the type of timestamp column for plotting\n",
    "df['Date'] = pd.to_datetime(df['Date'])\n",
    "# plot the data\n",
    "df.plot(x='Date', y='Q-E')"
   ]
  },
  {
   "cell_type": "markdown",
   "metadata": {},
   "source": [
    "## Clustering\n",
    "\n",
    "We group together the usual combination of features. The points that are far from the cluster are points with unusual combinations of features.We consider those points as anomalies."
   ]
  },
  {
   "cell_type": "code",
   "execution_count": 6,
   "metadata": {
    "scrolled": true
   },
   "outputs": [],
   "source": [
    "# Take useful feature and standardize them\n",
    "data = df.drop(['Date'],axis=1)\n",
    "min_max_scaler = preprocessing.StandardScaler()\n",
    "np_scaled = min_max_scaler.fit_transform(data)\n",
    "data = pd.DataFrame(np_scaled)"
   ]
  },
  {
   "cell_type": "code",
   "execution_count": 7,
   "metadata": {},
   "outputs": [],
   "source": [
    "#I choose 2 centroids arbitrarily and add these data to the central dataframe\n",
    "n_clust = 2\n",
    "kmeans = KMeans(n_clust).fit(data)\n",
    "scores = kmeans.score(data)\n",
    "df['cluster'] = kmeans.predict(data)\n",
    "\n",
    "#to visualize we must reduce to 2 principle components\n",
    "pca = PCA(n_components=2)\n",
    "data_pca = pca.fit_transform(data)\n",
    "# standardize these 2 new features\n",
    "min_max_scaler = preprocessing.StandardScaler()\n",
    "np_scaled = min_max_scaler.fit_transform(data_pca)\n",
    "data_pca = pd.DataFrame(np_scaled)\n",
    "\n",
    "df['principal_feature1'] = data_pca[0]\n",
    "df['principal_feature2'] = data_pca[1]\n",
    "df['cluster'].value_counts()\n",
    "df = df.dropna().copy()"
   ]
  },
  {
   "cell_type": "code",
   "execution_count": 8,
   "metadata": {},
   "outputs": [
    {
     "data": {
      "text/plain": [
       "<matplotlib.collections.PathCollection at 0x11e885090>"
      ]
     },
     "execution_count": 8,
     "metadata": {},
     "output_type": "execute_result"
    },
    {
     "data": {
      "image/png": "[encoded data removed]",
      "text/plain": [
       "<Figure size 432x288 with 1 Axes>"
      ]
     },
     "metadata": {
      "needs_background": "light"
     },
     "output_type": "display_data"
    }
   ],
   "source": [
    "#plot the different clusters with the 2 main features)\n",
    "colors = {0:'red', 1:'blue', 2:'green', 3:'pink', 4:'black', 5:'orange', 6:'cyan', 7:'yellow', 8:'brown', 9:'purple', 10:'white', 11: 'grey', 12:'lightblue', 13:'lightgreen', 14: 'darkgrey'}\n",
    "plt.scatter(df['principal_feature1'], df['principal_feature2'], c=df[\"cluster\"].apply(lambda x: colors[x]))"
   ]
  },
  {
   "cell_type": "code",
   "execution_count": 9,
   "metadata": {},
   "outputs": [],
   "source": [
    "#define function to calcuate distance to cluster center\n",
    "def getDistanceByPoint(data, model):\n",
    "    distance = pd.Series()\n",
    "    for i in range(0,len(data)):\n",
    "        Xa = np.array(data.loc[i])\n",
    "        Xb = model.cluster_centers_[model.labels_[i]-1]\n",
    "        distance.at[i] = np.linalg.norm(Xa-Xb)\n",
    "    return distance\n"
   ]
  },
  {
   "cell_type": "code",
   "execution_count": 10,
   "metadata": {},
   "outputs": [],
   "source": [
    "# get the distance between each point and its nearest centroid. The biggest distances are considered as anomaly\n",
    "distance = getDistanceByPoint(data, kmeans)\n",
    "df['distance'] = distance"
   ]
  },
  {
   "cell_type": "code",
   "execution_count": 11,
   "metadata": {},
   "outputs": [],
   "source": [
    "#set the fraction of point to classify as outliers\n",
    "outliers_fraction = 0.01"
   ]
  },
  {
   "cell_type": "code",
   "execution_count": 12,
   "metadata": {},
   "outputs": [],
   "source": [
    "# anomaly21 contain the anomaly result of cluster method (0:normal, 1:anomaly) \n",
    "distance = getDistanceByPoint(data, kmeans)\n",
    "number_of_outliers = int(outliers_fraction*len(distance))\n",
    "threshold = distance.nlargest(number_of_outliers).min()\n",
    "# anomaly21 contain the anomaly result of method 2.1 Cluster (0:normal, 1:anomaly) \n",
    "df['anomaly21'] = (distance >= threshold).astype(int)"
   ]
  },
  {
   "cell_type": "code",
   "execution_count": 13,
   "metadata": {},
   "outputs": [
    {
     "data": {
      "text/plain": [
       "<matplotlib.collections.PathCollection at 0x11e85e150>"
      ]
     },
     "execution_count": 13,
     "metadata": {},
     "output_type": "execute_result"
    },
    {
     "data": {
      "image/png": "[encoded data removed]",
      "text/plain": [
       "<Figure size 432x288 with 1 Axes>"
      ]
     },
     "metadata": {
      "needs_background": "light"
     },
     "output_type": "display_data"
    }
   ],
   "source": [
    "# visualisation of anomaly with cluster view\n",
    "plt.scatter(df['principal_feature1'], df['principal_feature2'], c=df[\"anomaly21\"].apply(lambda x: colors[x]))"
   ]
  },
  {
   "cell_type": "markdown",
   "metadata": {},
   "source": [
    "## Visualization through time"
   ]
  },
  {
   "cell_type": "markdown",
   "metadata": {},
   "source": [
    "Make a few plots of the data through time. You can plot the raw data, and also the principle components which summarize the data. On these plots, add lines or points to show where the anomlies occur in time"
   ]
  },
  {
   "cell_type": "code",
   "execution_count": null,
   "metadata": {},
   "outputs": [],
   "source": []
  }
 ],
 "metadata": {
  "kernelspec": {
   "display_name": "Python 3",
   "language": "python",
   "name": "python3"
  },
  "language_info": {
   "codemirror_mode": {
    "name": "ipython",
    "version": 3
   },
   "file_extension": ".py",
   "mimetype": "text/x-python",
   "name": "python",
   "nbconvert_exporter": "python",
   "pygments_lexer": "ipython3",
   "version": "3.7.4"
  }
 },
 "nbformat": 4,
 "nbformat_minor": 2
}
