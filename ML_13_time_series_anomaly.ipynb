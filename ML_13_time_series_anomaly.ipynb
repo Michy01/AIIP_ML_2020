{
 "cells": [
  {
   "cell_type": "markdown",
   "metadata": {},
   "source": [
    "## Data"
   ]
  },
  {
   "cell_type": "markdown",
   "metadata": {},
   "source": [
    "The data contains information collected from 54 Mica2Dot sensors deployed in the Intel Berkeley Research lab between February 28th and April 5th, 2004.  \n",
    "\n",
    "Mica2Dot sensors with weather boards collected timestamped topology information, along with humidity, temperature, light and voltage values once every 31 seconds. 54 sensors were distributed throughout the laboratory. We will only look at the data for sensor 7."
   ]
  },
  {
   "cell_type": "markdown",
   "metadata": {},
   "source": [
    "<img src='layout.png'>"
   ]
  },
  {
   "cell_type": "code",
   "execution_count": 2,
   "metadata": {},
   "outputs": [],
   "source": [
    "import datetime\n",
    "import pandas as pd\n",
    "import numpy as np  \n",
    "from matplotlib import pyplot as plt\n",
    "%matplotlib inline"
   ]
  },
  {
   "cell_type": "markdown",
   "metadata": {},
   "source": [
    "## Read the data"
   ]
  },
  {
   "cell_type": "code",
   "execution_count": 3,
   "metadata": {},
   "outputs": [
    {
     "data": {
      "text/html": [
       "<div>\n",
       "<style scoped>\n",
       "    .dataframe tbody tr th:only-of-type {\n",
       "        vertical-align: middle;\n",
       "    }\n",
       "\n",
       "    .dataframe tbody tr th {\n",
       "        vertical-align: top;\n",
       "    }\n",
       "\n",
       "    .dataframe thead th {\n",
       "        text-align: right;\n",
       "    }\n",
       "</style>\n",
       "<table border=\"1\" class=\"dataframe\">\n",
       "  <thead>\n",
       "    <tr style=\"text-align: right;\">\n",
       "      <th></th>\n",
       "      <th>ID</th>\n",
       "      <th>Date</th>\n",
       "      <th>Time</th>\n",
       "      <th>Epoch</th>\n",
       "      <th>MoteID</th>\n",
       "      <th>Temperature</th>\n",
       "      <th>Humidity</th>\n",
       "      <th>Light</th>\n",
       "      <th>Voltage</th>\n",
       "    </tr>\n",
       "  </thead>\n",
       "  <tbody>\n",
       "    <tr>\n",
       "      <td>0</td>\n",
       "      <td>0</td>\n",
       "      <td>2004-02-28</td>\n",
       "      <td>01:05:16.649448</td>\n",
       "      <td>15</td>\n",
       "      <td>7</td>\n",
       "      <td>19.4298</td>\n",
       "      <td>38.9401</td>\n",
       "      <td>108.56</td>\n",
       "      <td>2.68742</td>\n",
       "    </tr>\n",
       "    <tr>\n",
       "      <td>1</td>\n",
       "      <td>1</td>\n",
       "      <td>2004-02-28</td>\n",
       "      <td>01:05:46.546353</td>\n",
       "      <td>16</td>\n",
       "      <td>7</td>\n",
       "      <td>19.4200</td>\n",
       "      <td>39.0763</td>\n",
       "      <td>104.88</td>\n",
       "      <td>2.67532</td>\n",
       "    </tr>\n",
       "    <tr>\n",
       "      <td>2</td>\n",
       "      <td>2</td>\n",
       "      <td>2004-02-28</td>\n",
       "      <td>01:06:16.766558</td>\n",
       "      <td>17</td>\n",
       "      <td>7</td>\n",
       "      <td>19.4298</td>\n",
       "      <td>39.1443</td>\n",
       "      <td>104.88</td>\n",
       "      <td>2.68742</td>\n",
       "    </tr>\n",
       "    <tr>\n",
       "      <td>3</td>\n",
       "      <td>3</td>\n",
       "      <td>2004-02-28</td>\n",
       "      <td>01:06:46.58428</td>\n",
       "      <td>18</td>\n",
       "      <td>7</td>\n",
       "      <td>19.4200</td>\n",
       "      <td>39.2123</td>\n",
       "      <td>104.88</td>\n",
       "      <td>2.68742</td>\n",
       "    </tr>\n",
       "    <tr>\n",
       "      <td>4</td>\n",
       "      <td>4</td>\n",
       "      <td>2004-02-28</td>\n",
       "      <td>01:07:16.511303</td>\n",
       "      <td>19</td>\n",
       "      <td>7</td>\n",
       "      <td>19.4200</td>\n",
       "      <td>39.2803</td>\n",
       "      <td>104.88</td>\n",
       "      <td>2.68742</td>\n",
       "    </tr>\n",
       "    <tr>\n",
       "      <td>5</td>\n",
       "      <td>5</td>\n",
       "      <td>2004-02-28</td>\n",
       "      <td>01:07:46.51801</td>\n",
       "      <td>20</td>\n",
       "      <td>7</td>\n",
       "      <td>19.4102</td>\n",
       "      <td>39.1443</td>\n",
       "      <td>104.88</td>\n",
       "      <td>2.68742</td>\n",
       "    </tr>\n",
       "    <tr>\n",
       "      <td>6</td>\n",
       "      <td>6</td>\n",
       "      <td>2004-02-28</td>\n",
       "      <td>01:08:16.046134</td>\n",
       "      <td>21</td>\n",
       "      <td>7</td>\n",
       "      <td>19.4200</td>\n",
       "      <td>39.1443</td>\n",
       "      <td>104.88</td>\n",
       "      <td>2.68742</td>\n",
       "    </tr>\n",
       "    <tr>\n",
       "      <td>7</td>\n",
       "      <td>7</td>\n",
       "      <td>2004-02-28</td>\n",
       "      <td>01:08:46.607604</td>\n",
       "      <td>22</td>\n",
       "      <td>7</td>\n",
       "      <td>19.4004</td>\n",
       "      <td>39.3483</td>\n",
       "      <td>104.88</td>\n",
       "      <td>2.68742</td>\n",
       "    </tr>\n",
       "    <tr>\n",
       "      <td>8</td>\n",
       "      <td>8</td>\n",
       "      <td>2004-02-28</td>\n",
       "      <td>01:09:16.530298</td>\n",
       "      <td>23</td>\n",
       "      <td>7</td>\n",
       "      <td>19.4004</td>\n",
       "      <td>39.3483</td>\n",
       "      <td>104.88</td>\n",
       "      <td>2.68742</td>\n",
       "    </tr>\n",
       "    <tr>\n",
       "      <td>9</td>\n",
       "      <td>9</td>\n",
       "      <td>2004-02-28</td>\n",
       "      <td>01:10:16.572357</td>\n",
       "      <td>25</td>\n",
       "      <td>7</td>\n",
       "      <td>19.3906</td>\n",
       "      <td>39.2463</td>\n",
       "      <td>104.88</td>\n",
       "      <td>2.68742</td>\n",
       "    </tr>\n",
       "  </tbody>\n",
       "</table>\n",
       "</div>"
      ],
      "text/plain": [
       "   ID        Date             Time  Epoch  MoteID  Temperature  Humidity  \\\n",
       "0   0  2004-02-28  01:05:16.649448     15       7      19.4298   38.9401   \n",
       "1   1  2004-02-28  01:05:46.546353     16       7      19.4200   39.0763   \n",
       "2   2  2004-02-28  01:06:16.766558     17       7      19.4298   39.1443   \n",
       "3   3  2004-02-28   01:06:46.58428     18       7      19.4200   39.2123   \n",
       "4   4  2004-02-28  01:07:16.511303     19       7      19.4200   39.2803   \n",
       "5   5  2004-02-28   01:07:46.51801     20       7      19.4102   39.1443   \n",
       "6   6  2004-02-28  01:08:16.046134     21       7      19.4200   39.1443   \n",
       "7   7  2004-02-28  01:08:46.607604     22       7      19.4004   39.3483   \n",
       "8   8  2004-02-28  01:09:16.530298     23       7      19.4004   39.3483   \n",
       "9   9  2004-02-28  01:10:16.572357     25       7      19.3906   39.2463   \n",
       "\n",
       "    Light  Voltage  \n",
       "0  108.56  2.68742  \n",
       "1  104.88  2.67532  \n",
       "2  104.88  2.68742  \n",
       "3  104.88  2.68742  \n",
       "4  104.88  2.68742  \n",
       "5  104.88  2.68742  \n",
       "6  104.88  2.68742  \n",
       "7  104.88  2.68742  \n",
       "8  104.88  2.68742  \n",
       "9  104.88  2.68742  "
      ]
     },
     "execution_count": 3,
     "metadata": {},
     "output_type": "execute_result"
    }
   ],
   "source": [
    "# Reading the data\n",
    "df = pd.read_csv('input.csv')\n",
    "df.head(10)"
   ]
  },
  {
   "cell_type": "markdown",
   "metadata": {},
   "source": [
    "MotelID is the sensor location number, and epoch is a monotonically increasing time counter"
   ]
  },
  {
   "cell_type": "code",
   "execution_count": 4,
   "metadata": {},
   "outputs": [
    {
     "name": "stdout",
     "output_type": "stream",
     "text": [
      "<class 'pandas.core.frame.DataFrame'>\n",
      "RangeIndex: 55361 entries, 0 to 55360\n",
      "Data columns (total 9 columns):\n",
      "ID             55361 non-null int64\n",
      "Date           55361 non-null object\n",
      "Time           55361 non-null object\n",
      "Epoch          55361 non-null int64\n",
      "MoteID         55361 non-null int64\n",
      "Temperature    55354 non-null float64\n",
      "Humidity       55354 non-null float64\n",
      "Light          55354 non-null float64\n",
      "Voltage        55361 non-null float64\n",
      "dtypes: float64(4), int64(3), object(2)\n",
      "memory usage: 3.8+ MB\n"
     ]
    }
   ],
   "source": [
    "df.info()"
   ]
  },
  {
   "cell_type": "code",
   "execution_count": 5,
   "metadata": {},
   "outputs": [
    {
     "data": {
      "text/plain": [
       "ID             0\n",
       "Date           0\n",
       "Time           0\n",
       "Epoch          0\n",
       "MoteID         0\n",
       "Temperature    7\n",
       "Humidity       7\n",
       "Light          7\n",
       "Voltage        0\n",
       "dtype: int64"
      ]
     },
     "execution_count": 5,
     "metadata": {},
     "output_type": "execute_result"
    }
   ],
   "source": [
    "df.isnull().sum()"
   ]
  },
  {
   "cell_type": "markdown",
   "metadata": {},
   "source": [
    "## Wrangle and clean the data"
   ]
  },
  {
   "cell_type": "code",
   "execution_count": 6,
   "metadata": {},
   "outputs": [],
   "source": [
    "# Merging the Date and Time columns to create a datetime/timestamp column\n",
    "df['datetime'] = df['Date']+' '+df['Time']\n",
    "df['datetime'] =pd.to_datetime(df['datetime'])\n",
    "\n",
    "#filter dates\n",
    "df = df[(df.datetime < pd.Timestamp(datetime.date(year=2004,month=3,day=23)))]\n",
    "\n",
    "df = df.sort_values(by=['datetime'])\n"
   ]
  },
  {
   "cell_type": "code",
   "execution_count": 7,
   "metadata": {},
   "outputs": [],
   "source": [
    "# Dropping the non-required columns from the data\n",
    "df=df.drop('Date',axis=1)\n",
    "df=df.drop('Time',axis=1)\n",
    "df=df.drop('Epoch',axis=1)\n",
    "df=df.drop('MoteID',axis=1)"
   ]
  },
  {
   "cell_type": "code",
   "execution_count": 8,
   "metadata": {},
   "outputs": [],
   "source": [
    "# Cleaning the data of missing values\n",
    "df=df.dropna()"
   ]
  },
  {
   "cell_type": "code",
   "execution_count": 9,
   "metadata": {},
   "outputs": [
    {
     "data": {
      "text/html": [
       "<div>\n",
       "<style scoped>\n",
       "    .dataframe tbody tr th:only-of-type {\n",
       "        vertical-align: middle;\n",
       "    }\n",
       "\n",
       "    .dataframe tbody tr th {\n",
       "        vertical-align: top;\n",
       "    }\n",
       "\n",
       "    .dataframe thead th {\n",
       "        text-align: right;\n",
       "    }\n",
       "</style>\n",
       "<table border=\"1\" class=\"dataframe\">\n",
       "  <thead>\n",
       "    <tr style=\"text-align: right;\">\n",
       "      <th></th>\n",
       "      <th>ID</th>\n",
       "      <th>Temperature</th>\n",
       "      <th>Humidity</th>\n",
       "      <th>Light</th>\n",
       "      <th>Voltage</th>\n",
       "      <th>datetime</th>\n",
       "    </tr>\n",
       "  </thead>\n",
       "  <tbody>\n",
       "    <tr>\n",
       "      <td>0</td>\n",
       "      <td>0</td>\n",
       "      <td>19.4298</td>\n",
       "      <td>38.9401</td>\n",
       "      <td>108.56</td>\n",
       "      <td>2.68742</td>\n",
       "      <td>2004-02-28 01:05:16.649448</td>\n",
       "    </tr>\n",
       "    <tr>\n",
       "      <td>1</td>\n",
       "      <td>1</td>\n",
       "      <td>19.4200</td>\n",
       "      <td>39.0763</td>\n",
       "      <td>104.88</td>\n",
       "      <td>2.67532</td>\n",
       "      <td>2004-02-28 01:05:46.546353</td>\n",
       "    </tr>\n",
       "    <tr>\n",
       "      <td>2</td>\n",
       "      <td>2</td>\n",
       "      <td>19.4298</td>\n",
       "      <td>39.1443</td>\n",
       "      <td>104.88</td>\n",
       "      <td>2.68742</td>\n",
       "      <td>2004-02-28 01:06:16.766558</td>\n",
       "    </tr>\n",
       "    <tr>\n",
       "      <td>3</td>\n",
       "      <td>3</td>\n",
       "      <td>19.4200</td>\n",
       "      <td>39.2123</td>\n",
       "      <td>104.88</td>\n",
       "      <td>2.68742</td>\n",
       "      <td>2004-02-28 01:06:46.584280</td>\n",
       "    </tr>\n",
       "    <tr>\n",
       "      <td>4</td>\n",
       "      <td>4</td>\n",
       "      <td>19.4200</td>\n",
       "      <td>39.2803</td>\n",
       "      <td>104.88</td>\n",
       "      <td>2.68742</td>\n",
       "      <td>2004-02-28 01:07:16.511303</td>\n",
       "    </tr>\n",
       "    <tr>\n",
       "      <td>5</td>\n",
       "      <td>5</td>\n",
       "      <td>19.4102</td>\n",
       "      <td>39.1443</td>\n",
       "      <td>104.88</td>\n",
       "      <td>2.68742</td>\n",
       "      <td>2004-02-28 01:07:46.518010</td>\n",
       "    </tr>\n",
       "    <tr>\n",
       "      <td>6</td>\n",
       "      <td>6</td>\n",
       "      <td>19.4200</td>\n",
       "      <td>39.1443</td>\n",
       "      <td>104.88</td>\n",
       "      <td>2.68742</td>\n",
       "      <td>2004-02-28 01:08:16.046134</td>\n",
       "    </tr>\n",
       "    <tr>\n",
       "      <td>7</td>\n",
       "      <td>7</td>\n",
       "      <td>19.4004</td>\n",
       "      <td>39.3483</td>\n",
       "      <td>104.88</td>\n",
       "      <td>2.68742</td>\n",
       "      <td>2004-02-28 01:08:46.607604</td>\n",
       "    </tr>\n",
       "    <tr>\n",
       "      <td>8</td>\n",
       "      <td>8</td>\n",
       "      <td>19.4004</td>\n",
       "      <td>39.3483</td>\n",
       "      <td>104.88</td>\n",
       "      <td>2.68742</td>\n",
       "      <td>2004-02-28 01:09:16.530298</td>\n",
       "    </tr>\n",
       "    <tr>\n",
       "      <td>9</td>\n",
       "      <td>9</td>\n",
       "      <td>19.3906</td>\n",
       "      <td>39.2463</td>\n",
       "      <td>104.88</td>\n",
       "      <td>2.68742</td>\n",
       "      <td>2004-02-28 01:10:16.572357</td>\n",
       "    </tr>\n",
       "  </tbody>\n",
       "</table>\n",
       "</div>"
      ],
      "text/plain": [
       "   ID  Temperature  Humidity   Light  Voltage                   datetime\n",
       "0   0      19.4298   38.9401  108.56  2.68742 2004-02-28 01:05:16.649448\n",
       "1   1      19.4200   39.0763  104.88  2.67532 2004-02-28 01:05:46.546353\n",
       "2   2      19.4298   39.1443  104.88  2.68742 2004-02-28 01:06:16.766558\n",
       "3   3      19.4200   39.2123  104.88  2.68742 2004-02-28 01:06:46.584280\n",
       "4   4      19.4200   39.2803  104.88  2.68742 2004-02-28 01:07:16.511303\n",
       "5   5      19.4102   39.1443  104.88  2.68742 2004-02-28 01:07:46.518010\n",
       "6   6      19.4200   39.1443  104.88  2.68742 2004-02-28 01:08:16.046134\n",
       "7   7      19.4004   39.3483  104.88  2.68742 2004-02-28 01:08:46.607604\n",
       "8   8      19.4004   39.3483  104.88  2.68742 2004-02-28 01:09:16.530298\n",
       "9   9      19.3906   39.2463  104.88  2.68742 2004-02-28 01:10:16.572357"
      ]
     },
     "execution_count": 9,
     "metadata": {},
     "output_type": "execute_result"
    }
   ],
   "source": [
    "df.head(10)"
   ]
  },
  {
   "cell_type": "code",
   "execution_count": 10,
   "metadata": {},
   "outputs": [
    {
     "name": "stdout",
     "output_type": "stream",
     "text": [
      "<class 'pandas.core.frame.DataFrame'>\n",
      "Int64Index: 43455 entries, 0 to 27740\n",
      "Data columns (total 6 columns):\n",
      "ID             43455 non-null int64\n",
      "Temperature    43455 non-null float64\n",
      "Humidity       43455 non-null float64\n",
      "Light          43455 non-null float64\n",
      "Voltage        43455 non-null float64\n",
      "datetime       43455 non-null datetime64[ns]\n",
      "dtypes: datetime64[ns](1), float64(4), int64(1)\n",
      "memory usage: 2.3 MB\n"
     ]
    }
   ],
   "source": [
    "df.info()"
   ]
  },
  {
   "cell_type": "markdown",
   "metadata": {},
   "source": [
    "## Rolling median outlier detection"
   ]
  },
  {
   "cell_type": "code",
   "execution_count": 11,
   "metadata": {},
   "outputs": [],
   "source": [
    "#set the constants you need\n",
    "consistency_const = 1.4826\n",
    "thresh = 3\n",
    "\n",
    "#rolling median calculation\n",
    "df['median_Humidity'] = df.Humidity.rolling(480,center=True).median()\n",
    "\n",
    "#rolling MAD calculation\n",
    "df['median_Humidity_diff'] = abs(df.Humidity-df.median_Humidity)\n",
    "df['median_Humidity_mad'] = df.median_Humidity_diff.rolling(480,center=True).median()\n",
    "\n",
    "#rolling modified z-score calculation\n",
    "df['rolling_z_score'] = pd.to_numeric((df.median_Humidity_diff /(df.median_Humidity_mad*consistency_const)) > thresh)"
   ]
  },
  {
   "cell_type": "code",
   "execution_count": 12,
   "metadata": {},
   "outputs": [
    {
     "data": {
      "text/html": [
       "<div>\n",
       "<style scoped>\n",
       "    .dataframe tbody tr th:only-of-type {\n",
       "        vertical-align: middle;\n",
       "    }\n",
       "\n",
       "    .dataframe tbody tr th {\n",
       "        vertical-align: top;\n",
       "    }\n",
       "\n",
       "    .dataframe thead th {\n",
       "        text-align: right;\n",
       "    }\n",
       "</style>\n",
       "<table border=\"1\" class=\"dataframe\">\n",
       "  <thead>\n",
       "    <tr style=\"text-align: right;\">\n",
       "      <th></th>\n",
       "      <th>ID</th>\n",
       "      <th>Temperature</th>\n",
       "      <th>Humidity</th>\n",
       "      <th>Light</th>\n",
       "      <th>Voltage</th>\n",
       "      <th>datetime</th>\n",
       "      <th>median_Humidity</th>\n",
       "      <th>median_Humidity_diff</th>\n",
       "      <th>median_Humidity_mad</th>\n",
       "      <th>rolling_z_score</th>\n",
       "    </tr>\n",
       "  </thead>\n",
       "  <tbody>\n",
       "    <tr>\n",
       "      <td>480</td>\n",
       "      <td>480</td>\n",
       "      <td>17.9892</td>\n",
       "      <td>39.3823</td>\n",
       "      <td>97.52</td>\n",
       "      <td>2.66332</td>\n",
       "      <td>2004-02-28 05:52:17.370836</td>\n",
       "      <td>39.1103</td>\n",
       "      <td>0.2720</td>\n",
       "      <td>0.20400</td>\n",
       "      <td>False</td>\n",
       "    </tr>\n",
       "    <tr>\n",
       "      <td>481</td>\n",
       "      <td>481</td>\n",
       "      <td>17.9892</td>\n",
       "      <td>39.3483</td>\n",
       "      <td>97.52</td>\n",
       "      <td>2.67532</td>\n",
       "      <td>2004-02-28 05:52:47.251778</td>\n",
       "      <td>39.1103</td>\n",
       "      <td>0.2380</td>\n",
       "      <td>0.20400</td>\n",
       "      <td>False</td>\n",
       "    </tr>\n",
       "    <tr>\n",
       "      <td>482</td>\n",
       "      <td>482</td>\n",
       "      <td>17.9892</td>\n",
       "      <td>39.3483</td>\n",
       "      <td>97.52</td>\n",
       "      <td>2.67532</td>\n",
       "      <td>2004-02-28 05:53:16.495737</td>\n",
       "      <td>39.1103</td>\n",
       "      <td>0.2380</td>\n",
       "      <td>0.20400</td>\n",
       "      <td>False</td>\n",
       "    </tr>\n",
       "    <tr>\n",
       "      <td>483</td>\n",
       "      <td>483</td>\n",
       "      <td>18.0088</td>\n",
       "      <td>39.3483</td>\n",
       "      <td>97.52</td>\n",
       "      <td>2.67532</td>\n",
       "      <td>2004-02-28 05:53:46.878082</td>\n",
       "      <td>39.1103</td>\n",
       "      <td>0.2380</td>\n",
       "      <td>0.20400</td>\n",
       "      <td>False</td>\n",
       "    </tr>\n",
       "    <tr>\n",
       "      <td>484</td>\n",
       "      <td>484</td>\n",
       "      <td>17.9794</td>\n",
       "      <td>39.2803</td>\n",
       "      <td>97.52</td>\n",
       "      <td>2.67532</td>\n",
       "      <td>2004-02-28 05:54:46.795281</td>\n",
       "      <td>39.1103</td>\n",
       "      <td>0.1700</td>\n",
       "      <td>0.20400</td>\n",
       "      <td>False</td>\n",
       "    </tr>\n",
       "    <tr>\n",
       "      <td>...</td>\n",
       "      <td>...</td>\n",
       "      <td>...</td>\n",
       "      <td>...</td>\n",
       "      <td>...</td>\n",
       "      <td>...</td>\n",
       "      <td>...</td>\n",
       "      <td>...</td>\n",
       "      <td>...</td>\n",
       "      <td>...</td>\n",
       "      <td>...</td>\n",
       "    </tr>\n",
       "    <tr>\n",
       "      <td>55194</td>\n",
       "      <td>55194</td>\n",
       "      <td>22.9774</td>\n",
       "      <td>43.1858</td>\n",
       "      <td>279.68</td>\n",
       "      <td>2.40453</td>\n",
       "      <td>2004-03-21 13:31:54.740983</td>\n",
       "      <td>46.2297</td>\n",
       "      <td>3.0439</td>\n",
       "      <td>1.33935</td>\n",
       "      <td>False</td>\n",
       "    </tr>\n",
       "    <tr>\n",
       "      <td>55195</td>\n",
       "      <td>55195</td>\n",
       "      <td>23.0264</td>\n",
       "      <td>43.0524</td>\n",
       "      <td>279.68</td>\n",
       "      <td>2.40453</td>\n",
       "      <td>2004-03-21 13:36:00.693024</td>\n",
       "      <td>46.2461</td>\n",
       "      <td>3.1937</td>\n",
       "      <td>1.34745</td>\n",
       "      <td>False</td>\n",
       "    </tr>\n",
       "    <tr>\n",
       "      <td>55196</td>\n",
       "      <td>55196</td>\n",
       "      <td>23.0264</td>\n",
       "      <td>42.9856</td>\n",
       "      <td>279.68</td>\n",
       "      <td>2.40453</td>\n",
       "      <td>2004-03-21 13:39:12.927377</td>\n",
       "      <td>46.2461</td>\n",
       "      <td>3.2605</td>\n",
       "      <td>1.33935</td>\n",
       "      <td>False</td>\n",
       "    </tr>\n",
       "    <tr>\n",
       "      <td>55197</td>\n",
       "      <td>55197</td>\n",
       "      <td>23.0852</td>\n",
       "      <td>42.9189</td>\n",
       "      <td>279.68</td>\n",
       "      <td>2.40453</td>\n",
       "      <td>2004-03-21 13:47:41.592626</td>\n",
       "      <td>46.2789</td>\n",
       "      <td>3.3600</td>\n",
       "      <td>1.33935</td>\n",
       "      <td>False</td>\n",
       "    </tr>\n",
       "    <tr>\n",
       "      <td>55198</td>\n",
       "      <td>55198</td>\n",
       "      <td>23.1048</td>\n",
       "      <td>42.9856</td>\n",
       "      <td>264.96</td>\n",
       "      <td>2.40453</td>\n",
       "      <td>2004-03-21 13:47:55.618984</td>\n",
       "      <td>46.2953</td>\n",
       "      <td>3.3097</td>\n",
       "      <td>1.34745</td>\n",
       "      <td>False</td>\n",
       "    </tr>\n",
       "  </tbody>\n",
       "</table>\n",
       "<p>42497 rows × 10 columns</p>\n",
       "</div>"
      ],
      "text/plain": [
       "          ID  Temperature  Humidity   Light  Voltage  \\\n",
       "480      480      17.9892   39.3823   97.52  2.66332   \n",
       "481      481      17.9892   39.3483   97.52  2.67532   \n",
       "482      482      17.9892   39.3483   97.52  2.67532   \n",
       "483      483      18.0088   39.3483   97.52  2.67532   \n",
       "484      484      17.9794   39.2803   97.52  2.67532   \n",
       "...      ...          ...       ...     ...      ...   \n",
       "55194  55194      22.9774   43.1858  279.68  2.40453   \n",
       "55195  55195      23.0264   43.0524  279.68  2.40453   \n",
       "55196  55196      23.0264   42.9856  279.68  2.40453   \n",
       "55197  55197      23.0852   42.9189  279.68  2.40453   \n",
       "55198  55198      23.1048   42.9856  264.96  2.40453   \n",
       "\n",
       "                        datetime  median_Humidity  median_Humidity_diff  \\\n",
       "480   2004-02-28 05:52:17.370836          39.1103                0.2720   \n",
       "481   2004-02-28 05:52:47.251778          39.1103                0.2380   \n",
       "482   2004-02-28 05:53:16.495737          39.1103                0.2380   \n",
       "483   2004-02-28 05:53:46.878082          39.1103                0.2380   \n",
       "484   2004-02-28 05:54:46.795281          39.1103                0.1700   \n",
       "...                          ...              ...                   ...   \n",
       "55194 2004-03-21 13:31:54.740983          46.2297                3.0439   \n",
       "55195 2004-03-21 13:36:00.693024          46.2461                3.1937   \n",
       "55196 2004-03-21 13:39:12.927377          46.2461                3.2605   \n",
       "55197 2004-03-21 13:47:41.592626          46.2789                3.3600   \n",
       "55198 2004-03-21 13:47:55.618984          46.2953                3.3097   \n",
       "\n",
       "       median_Humidity_mad  rolling_z_score  \n",
       "480                0.20400            False  \n",
       "481                0.20400            False  \n",
       "482                0.20400            False  \n",
       "483                0.20400            False  \n",
       "484                0.20400            False  \n",
       "...                    ...              ...  \n",
       "55194              1.33935            False  \n",
       "55195              1.34745            False  \n",
       "55196              1.33935            False  \n",
       "55197              1.33935            False  \n",
       "55198              1.34745            False  \n",
       "\n",
       "[42497 rows x 10 columns]"
      ]
     },
     "execution_count": 12,
     "metadata": {},
     "output_type": "execute_result"
    }
   ],
   "source": [
    "df = df.dropna()\n",
    "df"
   ]
  },
  {
   "cell_type": "markdown",
   "metadata": {},
   "source": [
    "## Visualize results"
   ]
  },
  {
   "cell_type": "code",
   "execution_count": 12,
   "metadata": {},
   "outputs": [
    {
     "name": "stderr",
     "output_type": "stream",
     "text": [
      "/Users/michaelnana/opt/anaconda3/lib/python3.7/site-packages/pandas/plotting/_matplotlib/converter.py:103: FutureWarning: Using an implicitly registered datetime converter for a matplotlib plotting method. The converter was registered by pandas on import. Future versions of pandas will require you to explicitly register matplotlib converters.\n",
      "\n",
      "To register the converters:\n",
      "\t>>> from pandas.plotting import register_matplotlib_converters\n",
      "\t>>> register_matplotlib_converters()\n",
      "  warnings.warn(msg, FutureWarning)\n"
     ]
    },
    {
     "data": {
      "text/plain": [
       "[<matplotlib.lines.Line2D at 0x115374e90>]"
      ]
     },
     "execution_count": 12,
     "metadata": {},
     "output_type": "execute_result"
    },
    {
     "data": {
      "image/png": "[encoded data removed]",
      "text/plain": [
       "<Figure size 432x288 with 1 Axes>"
      ]
     },
     "metadata": {
      "needs_background": "light"
     },
     "output_type": "display_data"
    }
   ],
   "source": [
    "normal = df[df.rolling_z_score == 0]\n",
    "anomaly = df[df.rolling_z_score == 1]\n",
    "\n",
    "#normal data as green points\n",
    "plt.plot_date(normal.datetime, normal.Humidity, color='green',markersize=0.5)\n",
    "#anomalies as red points\n",
    "plt.plot_date(anomaly.datetime, anomaly.Humidity, color='red',markersize=1)\n",
    "#rolling median as blue line\n",
    "plt.plot_date(df['datetime'],df['median_Humidity'], color='blue',linestyle='solid', marker='None')\n",
    "# You may get a futurewarning about the date conversion."
   ]
  },
  {
   "cell_type": "markdown",
   "metadata": {},
   "source": [
    "Well it is not a surprise that these values are anomalous. They probably indicate sensor malfunction. Humidity can only range from 0 - 100. So lets filter these anomalies out"
   ]
  },
  {
   "cell_type": "code",
   "execution_count": 13,
   "metadata": {},
   "outputs": [],
   "source": [
    "df = df[df.Humidity <100]\n",
    "normal = df[df.rolling_z_score == 0]\n",
    "anomaly = df[df.rolling_z_score == 1]"
   ]
  },
  {
   "cell_type": "code",
   "execution_count": 14,
   "metadata": {},
   "outputs": [
    {
     "data": {
      "text/plain": [
       "[<matplotlib.lines.Line2D at 0x1152acfd0>]"
      ]
     },
     "execution_count": 14,
     "metadata": {},
     "output_type": "execute_result"
    },
    {
     "data": {
      "image/png": "[encoded data removed]",
      "text/plain": [
       "<Figure size 432x288 with 1 Axes>"
      ]
     },
     "metadata": {
      "needs_background": "light"
     },
     "output_type": "display_data"
    }
   ],
   "source": [
    "plt.plot_date(normal.datetime, normal.Humidity, color='green',markersize=0.5)\n",
    "plt.plot_date(anomaly.datetime, anomaly.Humidity, color='red',markersize=1)\n",
    "plt.plot_date(df['datetime'],df['median_Humidity'], color='blue',linestyle='solid', marker='None')"
   ]
  },
  {
   "cell_type": "markdown",
   "metadata": {},
   "source": [
    "That looks nice. Big drops or spikes in humidity are flagged as anomalies. Perhaps we would want to use this to inform our cooling or heating systems to response and adjust the climate accordingly. Let's look at a two day period in detail:"
   ]
  },
  {
   "cell_type": "code",
   "execution_count": 15,
   "metadata": {},
   "outputs": [
    {
     "data": {
      "text/plain": [
       "(30.0, 50.0)"
      ]
     },
     "execution_count": 15,
     "metadata": {},
     "output_type": "execute_result"
    },
    {
     "data": {
      "image/png": "[encoded data removed]",
      "text/plain": [
       "<Figure size 432x288 with 1 Axes>"
      ]
     },
     "metadata": {
      "needs_background": "light"
     },
     "output_type": "display_data"
    }
   ],
   "source": [
    "plt.plot_date(normal.datetime, normal.Humidity, color='green',markersize=0.5)\n",
    "plt.plot_date(anomaly.datetime, anomaly.Humidity, color='red',markersize=1)\n",
    "plt.plot_date(df['datetime'],df['median_Humidity'], color='blue',linestyle='solid', marker='None')\n",
    "\n",
    "xmin = datetime.date(year=2004,month=3,day=8)\n",
    "xmax = datetime.date(year=2004,month=3,day=9)\n",
    "plt.xlim(xmin,xmax)\n",
    "plt.ylim(30,50)"
   ]
  },
  {
   "cell_type": "markdown",
   "metadata": {},
   "source": [
    "The sudden drop near the beggining is flagged as anomalous. But smaller drops near the begginging are also flagged. Why is this? Well remember anomalies are defined relative the the variabilty around that time (using our moving MAD). Because variabilty at the start of this period is low, small changes are flagged as anomalies"
   ]
  },
  {
   "cell_type": "code",
   "execution_count": null,
   "metadata": {},
   "outputs": [],
   "source": []
  }
 ],
 "metadata": {
  "kernelspec": {
   "display_name": "Python 3",
   "language": "python",
   "name": "python3"
  },
  "language_info": {
   "codemirror_mode": {
    "name": "ipython",
    "version": 3
   },
   "file_extension": ".py",
   "mimetype": "text/x-python",
   "name": "python",
   "nbconvert_exporter": "python",
   "pygments_lexer": "ipython3",
   "version": "3.7.4"
  }
 },
 "nbformat": 4,
 "nbformat_minor": 2
}
